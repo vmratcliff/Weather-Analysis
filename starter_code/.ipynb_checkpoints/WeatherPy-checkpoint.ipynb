{
 "cells": [
  {
   "cell_type": "markdown",
   "metadata": {},
   "source": [
    "# WeatherPy\n",
    "----\n",
    "\n",
    "#### Note\n",
    "* Instructions have been included for each segment. You do not have to follow them exactly, but they are included to help you think through the steps."
   ]
  },
  {
   "cell_type": "code",
   "execution_count": 1,
   "metadata": {
    "scrolled": true
   },
   "outputs": [],
   "source": [
    "# Dependencies and Setup\n",
    "import matplotlib.pyplot as plt\n",
    "import pandas as pd\n",
    "import numpy as np\n",
    "import requests\n",
    "import time\n",
    "from scipy.stats import linregress\n",
    "\n",
    "# Import API key\n",
    "from api_keys import weather_api_key\n",
    "\n",
    "# Incorporated citipy to determine city based on latitude and longitude\n",
    "from citipy import citipy\n",
    "\n",
    "# Output File (CSV)\n",
    "output_data_file = \"../output_data/cities.csv\"\n",
    "\n",
    "# Range of latitudes and longitudes\n",
    "lat_range = (-90, 90)\n",
    "lng_range = (-180, 180)"
   ]
  },
  {
   "cell_type": "markdown",
   "metadata": {},
   "source": [
    "## Generate Cities List"
   ]
  },
  {
   "cell_type": "code",
   "execution_count": 2,
   "metadata": {},
   "outputs": [
    {
     "data": {
      "text/plain": [
       "612"
      ]
     },
     "execution_count": 2,
     "metadata": {},
     "output_type": "execute_result"
    }
   ],
   "source": [
    "# List for holding lat_lngs and cities\n",
    "lat_lngs = []\n",
    "cities = []\n",
    "\n",
    "# Create a set of random lat and lng combinations\n",
    "lats = np.random.uniform(low=-90.000, high=90.000, size=1500)\n",
    "lngs = np.random.uniform(low=-180.000, high=180.000, size=1500)\n",
    "lat_lngs = zip(lats, lngs)\n",
    "\n",
    "# Identify nearest city for each lat, lng combination\n",
    "for lat_lng in lat_lngs:\n",
    "    city = citipy.nearest_city(lat_lng[0], lat_lng[1]).city_name\n",
    "    \n",
    "    # If the city is unique, then add it to a our cities list\n",
    "    if city not in cities:\n",
    "        cities.append(city)\n",
    "\n",
    "# Print the city count to confirm sufficient count\n",
    "len(cities)"
   ]
  },
  {
   "cell_type": "markdown",
   "metadata": {},
   "source": [
    "### Perform API Calls\n",
    "* Perform a weather check on each city using a series of successive API calls.\n",
    "* Include a print log of each city as it's being processed (with the city number and city name).\n"
   ]
  },
  {
   "cell_type": "code",
   "execution_count": 3,
   "metadata": {},
   "outputs": [],
   "source": [
    "# URL\n",
    "url = \"http://api.openweathermap.org/data/2.5/weather?\"\n",
    "\n",
    "units = \"imperial\"\n",
    "desired_keys = ['clouds.all','sys.country','dt','main.humidity','main.temp_max','wind.speed','coord.lat','coord.lon']\n",
    "    \n",
    "# Build partial query URL\n",
    "query_url = f\"{url}appid={weather_api_key}&units={units}\""
   ]
  },
  {
   "cell_type": "code",
   "execution_count": null,
   "metadata": {},
   "outputs": [],
   "source": [
    "# city = \"cape town\"\n",
    "# query_url = f\"{url}appid={weather_api_key}&units={units}&q=\"+ city\n",
    "# output = requests.get(query_url).json()\n",
    "# output"
   ]
  },
  {
   "cell_type": "code",
   "execution_count": 4,
   "metadata": {},
   "outputs": [],
   "source": [
    "# Create Lists\n",
    "city_name = []\n",
    "cloudiness = []\n",
    "country = []\n",
    "date = []\n",
    "humidity = []\n",
    "lat = []\n",
    "lng = []\n",
    "max_temp = []\n",
    "wind_speed = []"
   ]
  },
  {
   "cell_type": "code",
   "execution_count": 5,
   "metadata": {},
   "outputs": [
    {
     "name": "stdout",
     "output_type": "stream",
     "text": [
      "Beginning Data Retrieval \n",
      " -------------------------\n",
      "Processing Record 1 of Set 1 |  biak\n",
      "Processing Record 2 of Set 1 |  cabo san lucas\n",
      "Processing Record 3 of Set 1 |  kapaa\n",
      "Processing Record 4 of Set 1 |  ikot ekpene\n",
      "Processing Record 5 of Set 1 |  airai\n",
      "Processing Record 6 of Set 1 |  maceio\n",
      "City not found. Skipping...\n",
      "Processing Record 7 of Set 1 |  san cristobal\n",
      "Processing Record 8 of Set 1 |  saint george\n",
      "City not found. Skipping...\n",
      "City not found. Skipping...\n",
      "Processing Record 9 of Set 1 |  bluff\n",
      "Processing Record 10 of Set 1 |  atuona\n",
      "City not found. Skipping...\n",
      "Processing Record 11 of Set 1 |  rikitea\n",
      "Processing Record 12 of Set 1 |  puerto ayora\n",
      "Processing Record 13 of Set 1 |  jamestown\n",
      "Processing Record 14 of Set 1 |  matay\n",
      "Processing Record 15 of Set 1 |  bud\n",
      "Processing Record 16 of Set 1 |  bilibino\n",
      "Processing Record 17 of Set 1 |  bilma\n",
      "Processing Record 18 of Set 1 |  yatou\n",
      "Processing Record 19 of Set 1 |  fortuna\n",
      "Processing Record 20 of Set 1 |  albany\n",
      "Processing Record 21 of Set 1 |  russell\n",
      "Processing Record 22 of Set 1 |  caxito\n",
      "City not found. Skipping...\n",
      "Processing Record 23 of Set 1 |  keti bandar\n",
      "City not found. Skipping...\n",
      "Processing Record 24 of Set 1 |  bredasdorp\n",
      "Processing Record 25 of Set 1 |  richards bay\n",
      "Processing Record 26 of Set 1 |  iquitos\n",
      "Processing Record 27 of Set 1 |  muroto\n",
      "Processing Record 28 of Set 1 |  busselton\n",
      "Processing Record 29 of Set 1 |  malindi\n",
      "Processing Record 30 of Set 1 |  ushuaia\n",
      "Processing Record 31 of Set 1 |  qaanaaq\n",
      "Processing Record 32 of Set 1 |  guaruja\n",
      "Processing Record 33 of Set 1 |  hualmay\n",
      "Processing Record 34 of Set 1 |  cape town\n",
      "Processing Record 35 of Set 1 |  dikson\n",
      "Processing Record 36 of Set 1 |  port elizabeth\n",
      "Processing Record 37 of Set 1 |  berbera\n",
      "Processing Record 38 of Set 1 |  teknaf\n",
      "City not found. Skipping...\n",
      "Processing Record 39 of Set 1 |  ugoofaaru\n",
      "City not found. Skipping...\n",
      "Processing Record 40 of Set 1 |  batagay\n",
      "Processing Record 41 of Set 1 |  comodoro rivadavia\n",
      "Processing Record 42 of Set 1 |  tasiilaq\n",
      "Processing Record 43 of Set 1 |  kiruna\n",
      "Processing Record 44 of Set 1 |  ponta do sol\n",
      "Processing Record 45 of Set 1 |  hithadhoo\n",
      "Processing Record 46 of Set 1 |  geraldton\n",
      "Processing Record 47 of Set 1 |  longyearbyen\n",
      "Processing Record 48 of Set 1 |  severo-kurilsk\n",
      "Processing Record 49 of Set 1 |  hilo\n",
      "Processing Record 50 of Set 1 |  bay roberts\n",
      "Processing Record 1 of Set 2 |  zaozerne\n",
      "City not found. Skipping...\n",
      "Processing Record 2 of Set 2 |  bermejo\n",
      "Processing Record 3 of Set 2 |  berlevag\n",
      "Processing Record 4 of Set 2 |  saldanha\n",
      "Processing Record 5 of Set 2 |  faanui\n",
      "Processing Record 6 of Set 2 |  vardo\n",
      "City not found. Skipping...\n",
      "Processing Record 7 of Set 2 |  grand-lahou\n",
      "City not found. Skipping...\n",
      "Processing Record 8 of Set 2 |  antofagasta\n",
      "Processing Record 9 of Set 2 |  port alfred\n",
      "Processing Record 10 of Set 2 |  ixtapa\n",
      "Processing Record 11 of Set 2 |  kamenka\n",
      "Processing Record 12 of Set 2 |  magadan\n",
      "Processing Record 13 of Set 2 |  orlik\n",
      "Processing Record 14 of Set 2 |  punta arenas\n",
      "Processing Record 15 of Set 2 |  thompson\n",
      "Processing Record 16 of Set 2 |  qui nhon\n",
      "Processing Record 17 of Set 2 |  lagoa\n",
      "Processing Record 18 of Set 2 |  itarema\n",
      "Processing Record 19 of Set 2 |  bambous virieux\n",
      "Processing Record 20 of Set 2 |  victoria\n",
      "Processing Record 21 of Set 2 |  guhagar\n",
      "Processing Record 22 of Set 2 |  belinskiy\n",
      "Processing Record 23 of Set 2 |  hermanus\n",
      "Processing Record 24 of Set 2 |  lasa\n",
      "Processing Record 25 of Set 2 |  pisco\n",
      "Processing Record 26 of Set 2 |  college\n",
      "Processing Record 27 of Set 2 |  kota tinggi\n",
      "Processing Record 28 of Set 2 |  cidreira\n",
      "Processing Record 29 of Set 2 |  kuala sungai baru\n",
      "City not found. Skipping...\n",
      "Processing Record 30 of Set 2 |  barao de melgaco\n",
      "Processing Record 31 of Set 2 |  lompoc\n",
      "Processing Record 32 of Set 2 |  hobart\n",
      "Processing Record 33 of Set 2 |  codrington\n",
      "Processing Record 34 of Set 2 |  carnarvon\n",
      "Processing Record 35 of Set 2 |  mar del plata\n",
      "Processing Record 36 of Set 2 |  okhotsk\n",
      "Processing Record 37 of Set 2 |  manadhoo\n",
      "Processing Record 38 of Set 2 |  barcelos\n",
      "Processing Record 39 of Set 2 |  mataura\n",
      "Processing Record 40 of Set 2 |  kodiak\n",
      "Processing Record 41 of Set 2 |  yeppoon\n",
      "Processing Record 42 of Set 2 |  vaini\n",
      "Processing Record 43 of Set 2 |  moron\n",
      "Processing Record 44 of Set 2 |  omboue\n",
      "Processing Record 45 of Set 2 |  saskylakh\n",
      "City not found. Skipping...\n",
      "Processing Record 46 of Set 2 |  teguise\n",
      "Processing Record 47 of Set 2 |  barcelona\n",
      "Processing Record 48 of Set 2 |  mitchell\n",
      "Processing Record 49 of Set 2 |  tuktoyaktuk\n",
      "City not found. Skipping...\n",
      "Processing Record 50 of Set 2 |  klaksvik\n",
      "Processing Record 1 of Set 3 |  honningsvag\n",
      "Processing Record 2 of Set 3 |  luderitz\n",
      "Processing Record 3 of Set 3 |  leningradskiy\n",
      "Processing Record 4 of Set 3 |  lebu\n",
      "Processing Record 5 of Set 3 |  strezhevoy\n",
      "Processing Record 6 of Set 3 |  vanimo\n",
      "Processing Record 7 of Set 3 |  vuktyl\n",
      "Processing Record 8 of Set 3 |  mahebourg\n",
      "Processing Record 9 of Set 3 |  mattru\n",
      "Processing Record 10 of Set 3 |  rincon\n",
      "Processing Record 11 of Set 3 |  vanderhoof\n",
      "Processing Record 12 of Set 3 |  yerbogachen\n",
      "Processing Record 13 of Set 3 |  georgetown\n",
      "Processing Record 14 of Set 3 |  pimentel\n",
      "Processing Record 15 of Set 3 |  nikolskoye\n",
      "Processing Record 16 of Set 3 |  ribeira grande\n",
      "Processing Record 17 of Set 3 |  vestmannaeyjar\n",
      "Processing Record 18 of Set 3 |  makakilo city\n",
      "Processing Record 19 of Set 3 |  praia\n",
      "Processing Record 20 of Set 3 |  rocha\n",
      "Processing Record 21 of Set 3 |  butaritari\n",
      "Processing Record 22 of Set 3 |  axim\n",
      "Processing Record 23 of Set 3 |  la cruz\n",
      "Processing Record 24 of Set 3 |  arraial do cabo\n",
      "Processing Record 25 of Set 3 |  udachnyy\n",
      "Processing Record 26 of Set 3 |  pajapan\n",
      "Processing Record 27 of Set 3 |  wajima\n",
      "Processing Record 28 of Set 3 |  huicungo\n",
      "Processing Record 29 of Set 3 |  dong hoi\n",
      "Processing Record 30 of Set 3 |  sao filipe\n",
      "Processing Record 31 of Set 3 |  tuatapere\n",
      "Processing Record 32 of Set 3 |  avarua\n",
      "Processing Record 33 of Set 3 |  upernavik\n",
      "Processing Record 34 of Set 3 |  doha\n",
      "Processing Record 35 of Set 3 |  dzaoudzi\n",
      "Processing Record 36 of Set 3 |  mastic beach\n",
      "Processing Record 37 of Set 3 |  rudbar\n",
      "Processing Record 38 of Set 3 |  barrow\n",
      "City not found. Skipping...\n",
      "Processing Record 39 of Set 3 |  la ronge\n",
      "Processing Record 40 of Set 3 |  narrabri\n",
      "Processing Record 41 of Set 3 |  chuy\n",
      "Processing Record 42 of Set 3 |  talnakh\n",
      "Processing Record 43 of Set 3 |  alofi\n",
      "Processing Record 44 of Set 3 |  madang\n",
      "Processing Record 45 of Set 3 |  vila velha\n",
      "Processing Record 46 of Set 3 |  tarbes\n",
      "Processing Record 47 of Set 3 |  seredka\n",
      "Processing Record 48 of Set 3 |  hambantota\n",
      "Processing Record 49 of Set 3 |  new norfolk\n",
      "Processing Record 50 of Set 3 |  mitsamiouli\n",
      "Processing Record 1 of Set 4 |  umm lajj\n",
      "Processing Record 2 of Set 4 |  ancud\n",
      "Processing Record 3 of Set 4 |  saint-philippe\n",
      "Processing Record 4 of Set 4 |  iqaluit\n",
      "Processing Record 5 of Set 4 |  quelimane\n",
      "Processing Record 6 of Set 4 |  ventimiglia\n",
      "Processing Record 7 of Set 4 |  pokotylivka\n",
      "Processing Record 8 of Set 4 |  angarsk\n",
      "Processing Record 9 of Set 4 |  chermoz\n",
      "Processing Record 10 of Set 4 |  asmara\n",
      "Processing Record 11 of Set 4 |  lavrentiya\n",
      "Processing Record 12 of Set 4 |  sao joao da barra\n",
      "Processing Record 13 of Set 4 |  cooma\n",
      "Processing Record 14 of Set 4 |  sabha\n",
      "Processing Record 15 of Set 4 |  kiunga\n",
      "Processing Record 16 of Set 4 |  tiksi\n",
      "Processing Record 17 of Set 4 |  zhuhai\n",
      "Processing Record 18 of Set 4 |  chegdomyn\n",
      "City not found. Skipping...\n",
      "Processing Record 19 of Set 4 |  chokurdakh\n",
      "Processing Record 20 of Set 4 |  bataipora\n",
      "Processing Record 21 of Set 4 |  khatanga\n",
      "Processing Record 22 of Set 4 |  torbay\n",
      "City not found. Skipping...\n",
      "Processing Record 23 of Set 4 |  halifax\n",
      "Processing Record 24 of Set 4 |  adrar\n",
      "Processing Record 25 of Set 4 |  emba\n",
      "Processing Record 26 of Set 4 |  bumba\n",
      "Processing Record 27 of Set 4 |  palmer\n",
      "Processing Record 28 of Set 4 |  cortes\n",
      "Processing Record 29 of Set 4 |  pafos\n",
      "Processing Record 30 of Set 4 |  winslow\n",
      "Processing Record 31 of Set 4 |  gizo\n",
      "Processing Record 32 of Set 4 |  san patricio\n",
      "Processing Record 33 of Set 4 |  havre\n"
     ]
    },
    {
     "name": "stdout",
     "output_type": "stream",
     "text": [
      "Processing Record 34 of Set 4 |  katsuura\n",
      "Processing Record 35 of Set 4 |  san jose\n",
      "Processing Record 36 of Set 4 |  castro\n",
      "Processing Record 37 of Set 4 |  kamaishi\n",
      "Processing Record 38 of Set 4 |  srednekolymsk\n",
      "Processing Record 39 of Set 4 |  padang\n",
      "Processing Record 40 of Set 4 |  mantua\n",
      "Processing Record 41 of Set 4 |  ust-tsilma\n",
      "Processing Record 42 of Set 4 |  raudeberg\n",
      "Processing Record 43 of Set 4 |  karasburg\n",
      "Processing Record 44 of Set 4 |  abu samrah\n",
      "Processing Record 45 of Set 4 |  nouakchott\n",
      "Processing Record 46 of Set 4 |  los llanos de aridane\n",
      "Processing Record 47 of Set 4 |  noumea\n",
      "Processing Record 48 of Set 4 |  port lincoln\n",
      "Processing Record 49 of Set 4 |  chimbote\n",
      "Processing Record 50 of Set 4 |  tomakomai\n",
      "Processing Record 1 of Set 5 |  mayya\n",
      "Processing Record 2 of Set 5 |  east london\n",
      "Processing Record 3 of Set 5 |  zhigansk\n",
      "Processing Record 4 of Set 5 |  christchurch\n",
      "Processing Record 5 of Set 5 |  salinas\n",
      "Processing Record 6 of Set 5 |  shu\n",
      "Processing Record 7 of Set 5 |  baruun-urt\n",
      "Processing Record 8 of Set 5 |  balikpapan\n",
      "Processing Record 9 of Set 5 |  saint-pierre\n",
      "City not found. Skipping...\n",
      "Processing Record 10 of Set 5 |  houma\n",
      "Processing Record 11 of Set 5 |  yellowknife\n",
      "Processing Record 12 of Set 5 |  provideniya\n",
      "Processing Record 13 of Set 5 |  puerto carreno\n",
      "Processing Record 14 of Set 5 |  haines junction\n",
      "Processing Record 15 of Set 5 |  snasa\n",
      "Processing Record 16 of Set 5 |  hamilton\n",
      "Processing Record 17 of Set 5 |  waingapu\n",
      "City not found. Skipping...\n",
      "Processing Record 18 of Set 5 |  san rafael\n",
      "Processing Record 19 of Set 5 |  nanortalik\n",
      "City not found. Skipping...\n",
      "City not found. Skipping...\n",
      "Processing Record 20 of Set 5 |  ouro fino\n",
      "Processing Record 21 of Set 5 |  kabwe\n",
      "Processing Record 22 of Set 5 |  bethel\n",
      "Processing Record 23 of Set 5 |  price\n",
      "Processing Record 24 of Set 5 |  safaga\n",
      "Processing Record 25 of Set 5 |  kafanchan\n",
      "Processing Record 26 of Set 5 |  bawku\n",
      "Processing Record 27 of Set 5 |  sidney\n",
      "Processing Record 28 of Set 5 |  kaitangata\n",
      "Processing Record 29 of Set 5 |  mount isa\n",
      "City not found. Skipping...\n",
      "Processing Record 30 of Set 5 |  hurghada\n",
      "Processing Record 31 of Set 5 |  verkhnevilyuysk\n",
      "Processing Record 32 of Set 5 |  tulagi\n",
      "Processing Record 33 of Set 5 |  aranos\n",
      "Processing Record 34 of Set 5 |  zemio\n",
      "Processing Record 35 of Set 5 |  grindavik\n",
      "Processing Record 36 of Set 5 |  norman wells\n",
      "Processing Record 37 of Set 5 |  cherskiy\n",
      "Processing Record 38 of Set 5 |  constitucion\n",
      "Processing Record 39 of Set 5 |  baykit\n",
      "Processing Record 40 of Set 5 |  beloha\n",
      "Processing Record 41 of Set 5 |  nador\n",
      "Processing Record 42 of Set 5 |  olafsvik\n",
      "Processing Record 43 of Set 5 |  tecoanapa\n",
      "Processing Record 44 of Set 5 |  gboko\n",
      "Processing Record 45 of Set 5 |  kailua\n",
      "Processing Record 46 of Set 5 |  nichinan\n",
      "Processing Record 47 of Set 5 |  marang\n",
      "Processing Record 48 of Set 5 |  xinzhou\n",
      "Processing Record 49 of Set 5 |  sao jose da coroa grande\n",
      "Processing Record 50 of Set 5 |  miraflores\n",
      "Processing Record 1 of Set 6 |  aklavik\n",
      "Processing Record 2 of Set 6 |  grand-bourg\n",
      "City not found. Skipping...\n",
      "Processing Record 3 of Set 6 |  sagvag\n",
      "Processing Record 4 of Set 6 |  bagdarin\n",
      "Processing Record 5 of Set 6 |  camden\n",
      "Processing Record 6 of Set 6 |  ambulu\n",
      "Processing Record 7 of Set 6 |  joliet\n",
      "Processing Record 8 of Set 6 |  tambopata\n",
      "Processing Record 9 of Set 6 |  kuandian\n",
      "Processing Record 10 of Set 6 |  araouane\n",
      "Processing Record 11 of Set 6 |  sao felix do xingu\n",
      "Processing Record 12 of Set 6 |  korla\n",
      "Processing Record 13 of Set 6 |  mandiana\n",
      "Processing Record 14 of Set 6 |  filingue\n",
      "Processing Record 15 of Set 6 |  lysva\n",
      "Processing Record 16 of Set 6 |  cacequi\n",
      "City not found. Skipping...\n",
      "Processing Record 17 of Set 6 |  baker city\n",
      "Processing Record 18 of Set 6 |  naze\n",
      "Processing Record 19 of Set 6 |  amos\n",
      "Processing Record 20 of Set 6 |  rio gallegos\n",
      "Processing Record 21 of Set 6 |  dajal\n",
      "Processing Record 22 of Set 6 |  taiyuan\n",
      "Processing Record 23 of Set 6 |  lahaina\n",
      "Processing Record 24 of Set 6 |  manisa\n",
      "Processing Record 25 of Set 6 |  narasannapeta\n",
      "Processing Record 26 of Set 6 |  port blair\n",
      "Processing Record 27 of Set 6 |  tura\n",
      "Processing Record 28 of Set 6 |  shenxian\n",
      "Processing Record 29 of Set 6 |  picota\n",
      "Processing Record 30 of Set 6 |  hami\n",
      "Processing Record 31 of Set 6 |  talalora\n",
      "Processing Record 32 of Set 6 |  honiara\n",
      "Processing Record 33 of Set 6 |  kloulklubed\n",
      "Processing Record 34 of Set 6 |  saint-georges\n",
      "City not found. Skipping...\n",
      "Processing Record 35 of Set 6 |  bengkulu\n",
      "Processing Record 36 of Set 6 |  nexo\n",
      "City not found. Skipping...\n",
      "Processing Record 37 of Set 6 |  hovd\n",
      "Processing Record 38 of Set 6 |  warragul\n",
      "Processing Record 39 of Set 6 |  byron bay\n",
      "Processing Record 40 of Set 6 |  tigil\n",
      "City not found. Skipping...\n",
      "Processing Record 41 of Set 6 |  hounde\n",
      "City not found. Skipping...\n",
      "Processing Record 42 of Set 6 |  port shepstone\n",
      "Processing Record 43 of Set 6 |  mount gambier\n",
      "Processing Record 44 of Set 6 |  nioki\n",
      "Processing Record 45 of Set 6 |  uhlove\n",
      "Processing Record 46 of Set 6 |  pangnirtung\n",
      "Processing Record 47 of Set 6 |  road town\n",
      "Processing Record 48 of Set 6 |  tacuarembo\n",
      "Processing Record 49 of Set 6 |  avera\n",
      "Processing Record 50 of Set 6 |  praya\n",
      "Processing Record 1 of Set 7 |  santa vitoria\n",
      "Processing Record 2 of Set 7 |  half moon bay\n",
      "City not found. Skipping...\n",
      "Processing Record 3 of Set 7 |  stokmarknes\n",
      "Processing Record 4 of Set 7 |  obihiro\n",
      "Processing Record 5 of Set 7 |  port hardy\n",
      "Processing Record 6 of Set 7 |  banjar\n",
      "Processing Record 7 of Set 7 |  suez\n",
      "Processing Record 8 of Set 7 |  plouzane\n",
      "Processing Record 9 of Set 7 |  mackenzie\n",
      "Processing Record 10 of Set 7 |  pevek\n",
      "Processing Record 11 of Set 7 |  kysyl-syr\n",
      "Processing Record 12 of Set 7 |  kanina\n",
      "Processing Record 13 of Set 7 |  hasaki\n",
      "Processing Record 14 of Set 7 |  samarai\n",
      "Processing Record 15 of Set 7 |  dunedin\n",
      "Processing Record 16 of Set 7 |  esperance\n",
      "Processing Record 17 of Set 7 |  alice town\n",
      "Processing Record 18 of Set 7 |  san juan evangelista\n",
      "City not found. Skipping...\n",
      "Processing Record 19 of Set 7 |  umea\n",
      "Processing Record 20 of Set 7 |  bathsheba\n",
      "Processing Record 21 of Set 7 |  rabo de peixe\n",
      "Processing Record 22 of Set 7 |  vao\n",
      "Processing Record 23 of Set 7 |  ahipara\n",
      "Processing Record 24 of Set 7 |  bloomington\n",
      "City not found. Skipping...\n",
      "Processing Record 25 of Set 7 |  poum\n",
      "Processing Record 26 of Set 7 |  hukuntsi\n",
      "Processing Record 27 of Set 7 |  sanchazi\n",
      "Processing Record 28 of Set 7 |  kahului\n",
      "Processing Record 29 of Set 7 |  fort nelson\n",
      "Processing Record 30 of Set 7 |  souillac\n",
      "Processing Record 31 of Set 7 |  anamur\n",
      "Processing Record 32 of Set 7 |  severomuysk\n",
      "Processing Record 33 of Set 7 |  hauterive\n",
      "Processing Record 34 of Set 7 |  aktau\n",
      "Processing Record 35 of Set 7 |  kinablangan\n",
      "Processing Record 36 of Set 7 |  garowe\n",
      "Processing Record 37 of Set 7 |  maragogi\n",
      "Processing Record 38 of Set 7 |  zhezkazgan\n",
      "Processing Record 39 of Set 7 |  meulaboh\n",
      "Processing Record 40 of Set 7 |  san policarpo\n",
      "City not found. Skipping...\n",
      "Processing Record 41 of Set 7 |  maniitsoq\n",
      "Processing Record 42 of Set 7 |  hirara\n",
      "City not found. Skipping...\n",
      "Processing Record 43 of Set 7 |  nieuw amsterdam\n",
      "Processing Record 44 of Set 7 |  cairns\n",
      "Processing Record 45 of Set 7 |  riyadh\n",
      "Processing Record 46 of Set 7 |  sabla\n",
      "Processing Record 47 of Set 7 |  sistranda\n",
      "Processing Record 48 of Set 7 |  alyangula\n",
      "Processing Record 49 of Set 7 |  clyde river\n",
      "Processing Record 50 of Set 7 |  ballina\n",
      "Processing Record 1 of Set 8 |  ayan\n",
      "City not found. Skipping...\n",
      "Processing Record 2 of Set 8 |  south lyon\n",
      "Processing Record 3 of Set 8 |  havelock\n",
      "Processing Record 4 of Set 8 |  puerto escondido\n",
      "Processing Record 5 of Set 8 |  sioux lookout\n",
      "Processing Record 6 of Set 8 |  iglesias\n",
      "Processing Record 7 of Set 8 |  mehamn\n",
      "Processing Record 8 of Set 8 |  ampanihy\n",
      "Processing Record 9 of Set 8 |  jasper\n",
      "Processing Record 10 of Set 8 |  yulara\n",
      "Processing Record 11 of Set 8 |  alta\n",
      "Processing Record 12 of Set 8 |  steamboat springs\n",
      "Processing Record 13 of Set 8 |  fochville\n",
      "Processing Record 14 of Set 8 |  taltal\n",
      "Processing Record 15 of Set 8 |  shenzhen\n",
      "Processing Record 16 of Set 8 |  hofn\n",
      "Processing Record 17 of Set 8 |  koslan\n"
     ]
    },
    {
     "name": "stdout",
     "output_type": "stream",
     "text": [
      "Processing Record 18 of Set 8 |  athabasca\n",
      "Processing Record 19 of Set 8 |  coruripe\n",
      "City not found. Skipping...\n",
      "Processing Record 20 of Set 8 |  nemuro\n",
      "Processing Record 21 of Set 8 |  banda\n",
      "Processing Record 22 of Set 8 |  tsilna\n",
      "Processing Record 23 of Set 8 |  sur\n",
      "Processing Record 24 of Set 8 |  fushun\n",
      "Processing Record 25 of Set 8 |  great yarmouth\n",
      "Processing Record 26 of Set 8 |  kirkland lake\n",
      "Processing Record 27 of Set 8 |  paamiut\n",
      "Processing Record 28 of Set 8 |  salym\n",
      "Processing Record 29 of Set 8 |  havre-saint-pierre\n",
      "Processing Record 30 of Set 8 |  solnechnyy\n",
      "Processing Record 31 of Set 8 |  loksa\n",
      "Processing Record 32 of Set 8 |  ilulissat\n",
      "Processing Record 33 of Set 8 |  salalah\n",
      "City not found. Skipping...\n",
      "Processing Record 34 of Set 8 |  hakkari\n",
      "Processing Record 35 of Set 8 |  magistralnyy\n",
      "City not found. Skipping...\n",
      "Processing Record 36 of Set 8 |  dorado\n",
      "Processing Record 37 of Set 8 |  narsaq\n",
      "Processing Record 38 of Set 8 |  maldonado\n",
      "Processing Record 39 of Set 8 |  birjand\n",
      "Processing Record 40 of Set 8 |  san rafael del sur\n",
      "Processing Record 41 of Set 8 |  evensk\n",
      "Processing Record 42 of Set 8 |  shelui\n",
      "Processing Record 43 of Set 8 |  morondava\n",
      "Processing Record 44 of Set 8 |  bandarbeyla\n",
      "Processing Record 45 of Set 8 |  vila\n",
      "Processing Record 46 of Set 8 |  ipatovo\n",
      "Processing Record 47 of Set 8 |  nome\n",
      "Processing Record 48 of Set 8 |  passos\n",
      "Processing Record 49 of Set 8 |  oussouye\n",
      "Processing Record 50 of Set 8 |  mogadishu\n",
      "Processing Record 1 of Set 9 |  sinnamary\n",
      "Processing Record 2 of Set 9 |  jega\n",
      "Processing Record 3 of Set 9 |  kachug\n",
      "Processing Record 4 of Set 9 |  cockburn town\n",
      "Processing Record 5 of Set 9 |  mabaruma\n",
      "Processing Record 6 of Set 9 |  xichang\n",
      "City not found. Skipping...\n",
      "Processing Record 7 of Set 9 |  sarangani\n",
      "Processing Record 8 of Set 9 |  umm kaddadah\n",
      "Processing Record 9 of Set 9 |  mullingar\n",
      "Processing Record 10 of Set 9 |  trairi\n",
      "Processing Record 11 of Set 9 |  udarnyy\n",
      "Processing Record 12 of Set 9 |  rio cuarto\n",
      "Processing Record 13 of Set 9 |  louis trichardt\n",
      "Processing Record 14 of Set 9 |  deputatskiy\n",
      "Processing Record 15 of Set 9 |  elko\n",
      "Processing Record 16 of Set 9 |  vilyuysk\n",
      "Processing Record 17 of Set 9 |  ulladulla\n",
      "Processing Record 18 of Set 9 |  kpalime\n",
      "City not found. Skipping...\n",
      "Processing Record 19 of Set 9 |  douglas\n",
      "Processing Record 20 of Set 9 |  dwarka\n",
      "Processing Record 21 of Set 9 |  zhongxing\n",
      "Processing Record 22 of Set 9 |  dali\n",
      "Processing Record 23 of Set 9 |  kruisfontein\n",
      "Processing Record 24 of Set 9 |  doume\n",
      "Processing Record 25 of Set 9 |  champerico\n",
      "Processing Record 26 of Set 9 |  qingdao\n",
      "Processing Record 27 of Set 9 |  dingle\n",
      "Processing Record 28 of Set 9 |  kulhudhuffushi\n",
      "Processing Record 29 of Set 9 |  santa maria\n",
      "City not found. Skipping...\n",
      "Processing Record 30 of Set 9 |  vanavara\n",
      "Processing Record 31 of Set 9 |  dongtai\n",
      "Processing Record 32 of Set 9 |  bondo\n",
      "Processing Record 33 of Set 9 |  puerto narino\n",
      "Processing Record 34 of Set 9 |  pau brasil\n",
      "Processing Record 35 of Set 9 |  kyzyl-suu\n",
      "Processing Record 36 of Set 9 |  taoudenni\n",
      "Processing Record 37 of Set 9 |  touros\n",
      "Processing Record 38 of Set 9 |  veraval\n",
      "Processing Record 39 of Set 9 |  faya\n",
      "Processing Record 40 of Set 9 |  northam\n",
      "Processing Record 41 of Set 9 |  havoysund\n",
      "Processing Record 42 of Set 9 |  pinega\n",
      "Processing Record 43 of Set 9 |  onega\n",
      "Processing Record 44 of Set 9 |  hanford\n",
      "Processing Record 45 of Set 9 |  moletai\n",
      "City not found. Skipping...\n",
      "Processing Record 46 of Set 9 |  niquero\n",
      "Processing Record 47 of Set 9 |  necochea\n",
      "Processing Record 48 of Set 9 |  wuwei\n",
      "Processing Record 49 of Set 9 |  la paz\n",
      "Processing Record 50 of Set 9 |  thomastown\n",
      "Processing Record 1 of Set 10 |  shiyan\n",
      "Processing Record 2 of Set 10 |  husavik\n",
      "Processing Record 3 of Set 10 |  borogontsy\n",
      "Processing Record 4 of Set 10 |  ituacu\n",
      "Processing Record 5 of Set 10 |  san quintin\n",
      "Processing Record 6 of Set 10 |  aripuana\n",
      "City not found. Skipping...\n",
      "Processing Record 7 of Set 10 |  lorengau\n",
      "City not found. Skipping...\n",
      "Processing Record 8 of Set 10 |  el tocuyo\n",
      "Processing Record 9 of Set 10 |  ustye\n",
      "Processing Record 10 of Set 10 |  ankang\n",
      "City not found. Skipping...\n",
      "Processing Record 11 of Set 10 |  englehart\n",
      "Processing Record 12 of Set 10 |  benin\n",
      "Processing Record 13 of Set 10 |  conakry\n",
      "City not found. Skipping...\n",
      "Processing Record 14 of Set 10 |  rawson\n",
      "City not found. Skipping...\n",
      "Processing Record 15 of Set 10 |  alexandria\n",
      "Processing Record 16 of Set 10 |  swakopmund\n",
      "Processing Record 17 of Set 10 |  arrecife\n",
      "City not found. Skipping...\n",
      "Processing Record 18 of Set 10 |  nalut\n",
      "Processing Record 19 of Set 10 |  gubkinskiy\n",
      "Processing Record 20 of Set 10 |  flinders\n",
      "Processing Record 21 of Set 10 |  bulawayo\n",
      "Processing Record 22 of Set 10 |  buala\n",
      "Processing Record 23 of Set 10 |  grand gaube\n",
      "Processing Record 24 of Set 10 |  carupano\n",
      "Processing Record 25 of Set 10 |  vila franca do campo\n",
      "Processing Record 26 of Set 10 |  benghazi\n",
      "Processing Record 27 of Set 10 |  batesville\n",
      "Processing Record 28 of Set 10 |  pontianak\n",
      "Processing Record 29 of Set 10 |  puntarenas\n",
      "Processing Record 30 of Set 10 |  laguna\n",
      "Processing Record 31 of Set 10 |  yagodnoye\n",
      "Processing Record 32 of Set 10 |  syrskoye\n",
      "Processing Record 33 of Set 10 |  kaeo\n",
      "Processing Record 34 of Set 10 |  lakes entrance\n",
      "Processing Record 35 of Set 10 |  kuusamo\n",
      "City not found. Skipping...\n",
      "Processing Record 36 of Set 10 |  eyl\n",
      "Processing Record 37 of Set 10 |  edson\n",
      "City not found. Skipping...\n",
      "Processing Record 38 of Set 10 |  batticaloa\n",
      "Processing Record 39 of Set 10 |  carrara\n",
      "Processing Record 40 of Set 10 |  williamsport\n",
      "Processing Record 41 of Set 10 |  aguimes\n",
      "Processing Record 42 of Set 10 |  santa lucia\n",
      "Processing Record 43 of Set 10 |  banda aceh\n",
      "Processing Record 44 of Set 10 |  sao gabriel da cachoeira\n",
      "Processing Record 45 of Set 10 |  vrede\n",
      "Processing Record 46 of Set 10 |  moerai\n",
      "Processing Record 47 of Set 10 |  coaldale\n",
      "Processing Record 48 of Set 10 |  kahta\n",
      "Processing Record 49 of Set 10 |  fukue\n",
      "Processing Record 50 of Set 10 |  jinxi\n",
      "Processing Record 1 of Set 11 |  akkermanovka\n",
      "Processing Record 2 of Set 11 |  chapais\n",
      "Processing Record 3 of Set 11 |  qaqortoq\n",
      "Processing Record 4 of Set 11 |  coahuayana\n",
      "Processing Record 5 of Set 11 |  port-cartier\n",
      "Processing Record 6 of Set 11 |  aksarka\n",
      "Processing Record 7 of Set 11 |  tiarei\n",
      "Processing Record 8 of Set 11 |  lima\n",
      "Processing Record 9 of Set 11 |  carutapera\n",
      "Processing Record 10 of Set 11 |  dawlatabad\n",
      "Processing Record 11 of Set 11 |  leh\n",
      "Processing Record 12 of Set 11 |  porto belo\n",
      "Processing Record 13 of Set 11 |  sitka\n",
      "Processing Record 14 of Set 11 |  sao domingos do maranhao\n",
      "Processing Record 15 of Set 11 |  pundaguitan\n",
      "Processing Record 16 of Set 11 |  panjab\n",
      "Processing Record 17 of Set 11 |  morant bay\n",
      "Processing Record 18 of Set 11 |  surt\n",
      "Processing Record 19 of Set 11 |  mau\n",
      "Processing Record 20 of Set 11 |  wewak\n",
      "Processing Record 21 of Set 11 |  imbituba\n",
      "Processing Record 22 of Set 11 |  dagana\n",
      "Processing Record 23 of Set 11 |  kutum\n",
      "Processing Record 24 of Set 11 |  wismar\n",
      "Processing Record 25 of Set 11 |  kununurra\n",
      "City not found. Skipping...\n",
      "Processing Record 26 of Set 11 |  amahai\n",
      "Processing Record 27 of Set 11 |  derzhavinsk\n",
      "Processing Record 28 of Set 11 |  saint-joseph\n",
      "Processing Record 29 of Set 11 |  beringovskiy\n",
      "Processing Record 30 of Set 11 |  bonavista\n",
      "Processing Record 31 of Set 11 |  dakar\n",
      "Processing Record 32 of Set 11 |  jalu\n",
      "Processing Record 33 of Set 11 |  atambua\n",
      "City not found. Skipping...\n",
      "Processing Record 34 of Set 11 |  valle de allende\n",
      "Processing Record 35 of Set 11 |  hillsborough\n",
      "Processing Record 36 of Set 11 |  sobolevo\n",
      "Processing Record 37 of Set 11 |  menongue\n",
      "Processing Record 38 of Set 11 |  port-gentil\n",
      "Processing Record 39 of Set 11 |  jacareacanga\n",
      "Processing Record 40 of Set 11 |  tolaga bay\n",
      "Processing Record 41 of Set 11 |  coronado\n",
      "Processing Record 42 of Set 11 |  tezu\n",
      "Processing Record 43 of Set 11 |  roald\n",
      "Processing Record 44 of Set 11 |  colac\n",
      "Processing Record 45 of Set 11 |  aykhal\n",
      "City not found. Skipping...\n",
      "Processing Record 46 of Set 11 |  les escoumins\n",
      "Processing Record 47 of Set 11 |  isangel\n",
      "Processing Record 48 of Set 11 |  fort saint james\n"
     ]
    },
    {
     "name": "stdout",
     "output_type": "stream",
     "text": [
      "Processing Record 49 of Set 11 |  piranshahr\n",
      "Processing Record 50 of Set 11 |  middleton\n",
      "City not found. Skipping...\n",
      "City not found. Skipping...\n",
      "Processing Record 1 of Set 12 |  sept-iles\n",
      "Processing Record 2 of Set 12 |  villena\n",
      "Processing Record 3 of Set 12 |  tahoua\n",
      "Processing Record 4 of Set 12 |  coquimbo\n",
      "Processing Record 5 of Set 12 |  tenabo\n",
      "Processing Record 6 of Set 12 |  sirohi\n",
      "Processing Record 7 of Set 12 |  santos dumont\n",
      "Processing Record 8 of Set 12 |  lixourion\n",
      "------------------------- \n",
      "Data Retrieval Complete \n",
      "-------------------------\n"
     ]
    }
   ],
   "source": [
    "# counter to count the number of calls to API\n",
    "count = 1\n",
    " # counter to count the number of call sets\n",
    "sets = 1\n",
    "\n",
    "print(\"Beginning Data Retrieval \\n -------------------------\")\n",
    "for city in cities:\n",
    "    \n",
    "    try:\n",
    "        response = requests.get(f\"{query_url}&q={city}\").json() \n",
    "        city_name.append(response[\"name\"])\n",
    "        cloudiness.append(response[\"clouds\"][\"all\"])\n",
    "        country.append(response[\"sys\"][\"country\"])\n",
    "        date.append(response[\"dt\"])\n",
    "        humidity.append(response[\"main\"][\"humidity\"])\n",
    "        max_temp.append(response[\"main\"][\"temp_max\"])\n",
    "        lat.append(response[\"coord\"][\"lat\"])\n",
    "        lng.append(response[\"coord\"][\"lon\"])\n",
    "        wind_speed.append(response[\"wind\"][\"speed\"])\n",
    "        city_record = response[\"name\"]\n",
    "        print(f\"Processing Record {count} of Set {sets} |  {city}\")\n",
    "        count = count+1\n",
    "        time.sleep(1.01)\n",
    "    except:\n",
    "        print(\"City not found. Skipping...\")\n",
    "    \n",
    "    # loop to limit 50 API calls per minute. The OpenWeatherMap API limit is 60 calls/min\n",
    "    if count == 51: \n",
    "        count = 1 \n",
    "        sets = sets+1\n",
    "\n",
    "print(\"------------------------- \\nData Retrieval Complete \\n-------------------------\")"
   ]
  },
  {
   "cell_type": "markdown",
   "metadata": {},
   "source": [
    "### Convert Raw Data to DataFrame\n",
    "* Export the city data into a .csv.\n",
    "* Display the DataFrame"
   ]
  },
  {
   "cell_type": "code",
   "execution_count": 6,
   "metadata": {},
   "outputs": [
    {
     "data": {
      "text/plain": [
       "City          558\n",
       "Cloudiness    558\n",
       "Country       558\n",
       "Date          558\n",
       "Humidity      558\n",
       "Lat           558\n",
       "Lng           558\n",
       "Max Temp      558\n",
       "Wind Speed    558\n",
       "dtype: int64"
      ]
     },
     "execution_count": 6,
     "metadata": {},
     "output_type": "execute_result"
    }
   ],
   "source": [
    "weather_df = pd.DataFrame({\n",
    "     'City':city_name,\n",
    "     'Cloudiness':cloudiness,\n",
    "     'Country':country,\n",
    "     'Date':date,\n",
    "     'Humidity':humidity,\n",
    "     'Lat':lat,\n",
    "     'Lng':lng,\n",
    "     'Max Temp':max_temp,\n",
    "     'Wind Speed':wind_speed,\n",
    "     })\n",
    "weather_df.count()"
   ]
  },
  {
   "cell_type": "code",
   "execution_count": 7,
   "metadata": {},
   "outputs": [],
   "source": [
    "# Export the city data into a .csv.\n",
    "weather_df.to_csv('../output_data/weatheroutput.csv')"
   ]
  },
  {
   "cell_type": "code",
   "execution_count": 8,
   "metadata": {},
   "outputs": [
    {
     "data": {
      "text/html": [
       "<div>\n",
       "<style scoped>\n",
       "    .dataframe tbody tr th:only-of-type {\n",
       "        vertical-align: middle;\n",
       "    }\n",
       "\n",
       "    .dataframe tbody tr th {\n",
       "        vertical-align: top;\n",
       "    }\n",
       "\n",
       "    .dataframe thead th {\n",
       "        text-align: right;\n",
       "    }\n",
       "</style>\n",
       "<table border=\"1\" class=\"dataframe\">\n",
       "  <thead>\n",
       "    <tr style=\"text-align: right;\">\n",
       "      <th></th>\n",
       "      <th>City</th>\n",
       "      <th>Cloudiness</th>\n",
       "      <th>Country</th>\n",
       "      <th>Date</th>\n",
       "      <th>Humidity</th>\n",
       "      <th>Lat</th>\n",
       "      <th>Lng</th>\n",
       "      <th>Max Temp</th>\n",
       "      <th>Wind Speed</th>\n",
       "    </tr>\n",
       "  </thead>\n",
       "  <tbody>\n",
       "    <tr>\n",
       "      <td>0</td>\n",
       "      <td>Biak</td>\n",
       "      <td>98</td>\n",
       "      <td>ID</td>\n",
       "      <td>1584394243</td>\n",
       "      <td>71</td>\n",
       "      <td>-0.91</td>\n",
       "      <td>122.88</td>\n",
       "      <td>80.87</td>\n",
       "      <td>5.70</td>\n",
       "    </tr>\n",
       "    <tr>\n",
       "      <td>1</td>\n",
       "      <td>Cabo San Lucas</td>\n",
       "      <td>20</td>\n",
       "      <td>MX</td>\n",
       "      <td>1584393951</td>\n",
       "      <td>47</td>\n",
       "      <td>22.89</td>\n",
       "      <td>-109.91</td>\n",
       "      <td>82.99</td>\n",
       "      <td>6.93</td>\n",
       "    </tr>\n",
       "    <tr>\n",
       "      <td>2</td>\n",
       "      <td>Kapaa</td>\n",
       "      <td>90</td>\n",
       "      <td>US</td>\n",
       "      <td>1584394246</td>\n",
       "      <td>94</td>\n",
       "      <td>22.08</td>\n",
       "      <td>-159.32</td>\n",
       "      <td>73.40</td>\n",
       "      <td>26.40</td>\n",
       "    </tr>\n",
       "    <tr>\n",
       "      <td>3</td>\n",
       "      <td>Ikot Ekpene</td>\n",
       "      <td>100</td>\n",
       "      <td>NG</td>\n",
       "      <td>1584394247</td>\n",
       "      <td>77</td>\n",
       "      <td>5.18</td>\n",
       "      <td>7.71</td>\n",
       "      <td>82.49</td>\n",
       "      <td>7.99</td>\n",
       "    </tr>\n",
       "    <tr>\n",
       "      <td>4</td>\n",
       "      <td>Airai</td>\n",
       "      <td>46</td>\n",
       "      <td>TL</td>\n",
       "      <td>1584393660</td>\n",
       "      <td>83</td>\n",
       "      <td>-8.93</td>\n",
       "      <td>125.41</td>\n",
       "      <td>64.13</td>\n",
       "      <td>3.80</td>\n",
       "    </tr>\n",
       "  </tbody>\n",
       "</table>\n",
       "</div>"
      ],
      "text/plain": [
       "             City  Cloudiness Country        Date  Humidity    Lat     Lng  \\\n",
       "0            Biak          98      ID  1584394243        71  -0.91  122.88   \n",
       "1  Cabo San Lucas          20      MX  1584393951        47  22.89 -109.91   \n",
       "2           Kapaa          90      US  1584394246        94  22.08 -159.32   \n",
       "3     Ikot Ekpene         100      NG  1584394247        77   5.18    7.71   \n",
       "4           Airai          46      TL  1584393660        83  -8.93  125.41   \n",
       "\n",
       "   Max Temp  Wind Speed  \n",
       "0     80.87        5.70  \n",
       "1     82.99        6.93  \n",
       "2     73.40       26.40  \n",
       "3     82.49        7.99  \n",
       "4     64.13        3.80  "
      ]
     },
     "execution_count": 8,
     "metadata": {},
     "output_type": "execute_result"
    }
   ],
   "source": [
    "weather_df.head()"
   ]
  },
  {
   "cell_type": "markdown",
   "metadata": {},
   "source": [
    "### Plotting the Data\n",
    "* Use proper labeling of the plots using plot titles (including date of analysis) and axes labels.\n",
    "* Save the plotted figures as .pngs."
   ]
  },
  {
   "cell_type": "markdown",
   "metadata": {},
   "source": [
    "#### Latitude vs. Temperature Plot"
   ]
  },
  {
   "cell_type": "code",
   "execution_count": 12,
   "metadata": {
    "scrolled": true
   },
   "outputs": [
    {
     "data": {
      "image/png": "[encoded data removed]",
      "text/plain": [
       "<Figure size 432x288 with 1 Axes>"
      ]
     },
     "metadata": {
      "needs_background": "light"
     },
     "output_type": "display_data"
    },
    {
     "data": {
      "text/plain": [
       "<Figure size 432x288 with 0 Axes>"
      ]
     },
     "metadata": {},
     "output_type": "display_data"
    }
   ],
   "source": [
    "# Create a Scatter Plot for temperature vs latitude\n",
    "x_values = weather_df['Lat']\n",
    "y_values = weather_df['Max Temp']\n",
    "plt.scatter(x_values,y_values)\n",
    "plt.xlabel('Latitude')\n",
    "plt.ylabel('Temperature (F)')\n",
    "plt.title(\"City Latitude vs Temperature (F) 3/16/20\")\n",
    "plt.grid()\n",
    "plt.show()\n",
    "\n",
    "# Save Figure\n",
    "plt.savefig(\"../output_data/Fig1\")"
   ]
  },
  {
   "cell_type": "markdown",
   "metadata": {},
   "source": [
    "This Scatter Plot shows the closer the city is to the equator, the higher the temperature.\n",
    "The Southern Hemisphere appears to have higher temperatures than the Northern Hemisphere."
   ]
  },
  {
   "cell_type": "markdown",
   "metadata": {},
   "source": [
    "#### Latitude vs. Humidity Plot"
   ]
  },
  {
   "cell_type": "code",
   "execution_count": 14,
   "metadata": {},
   "outputs": [
    {
     "data": {
      "image/png": "[encoded data removed]",
      "text/plain": [
       "<Figure size 432x288 with 1 Axes>"
      ]
     },
     "metadata": {
      "needs_background": "light"
     },
     "output_type": "display_data"
    },
    {
     "data": {
      "text/plain": [
       "<Figure size 432x288 with 0 Axes>"
      ]
     },
     "metadata": {},
     "output_type": "display_data"
    }
   ],
   "source": [
    "# Create a Scatter Plot for humidity vs latitude\n",
    "x_values = weather_df['Lat']\n",
    "y_values = weather_df['Humidity']\n",
    "plt.scatter(x_values,y_values)\n",
    "plt.xlabel('Latitude')\n",
    "plt.ylabel('Humidity (%)')\n",
    "plt.xlim(-60,80)\n",
    "plt.ylim(0,300)\n",
    "plt.title(\"City Latitude vs Humidity (3/16/20)\")\n",
    "plt.grid()\n",
    "plt.show()\n",
    "\n",
    "# Save Figure\n",
    "plt.savefig(\"../output_data/Fig2\")"
   ]
  },
  {
   "cell_type": "markdown",
   "metadata": {},
   "source": [
    "According to the scatter plot, Humidity % is spread out evenly across latitude. "
   ]
  },
  {
   "cell_type": "markdown",
   "metadata": {},
   "source": [
    "#### Latitude vs. Cloudiness Plot"
   ]
  },
  {
   "cell_type": "code",
   "execution_count": 15,
   "metadata": {},
   "outputs": [
    {
     "data": {
      "image/png": "[encoded data removed]",
      "text/plain": [
       "<Figure size 432x288 with 1 Axes>"
      ]
     },
     "metadata": {
      "needs_background": "light"
     },
     "output_type": "display_data"
    },
    {
     "data": {
      "text/plain": [
       "<Figure size 432x288 with 0 Axes>"
      ]
     },
     "metadata": {},
     "output_type": "display_data"
    }
   ],
   "source": [
    "# Create a Scatter Plot for cloudiness vs latitude\n",
    "x_values = weather_df['Lat']\n",
    "y_values = weather_df['Cloudiness']\n",
    "plt.scatter(x_values,y_values)\n",
    "plt.xlabel('Latitude')\n",
    "plt.ylabel('Cloudiness')\n",
    "plt.xlim(-60,80)\n",
    "plt.ylim(0,140)\n",
    "plt.title(\"City Latitude vs Cloudiness (3/16/20)\")\n",
    "plt.grid()\n",
    "plt.show()\n",
    "\n",
    "# Save Figure\n",
    "plt.savefig(\"../output_data/Fig3\")"
   ]
  },
  {
   "cell_type": "markdown",
   "metadata": {},
   "source": [
    "There deos not appear to be any correlation between City Latitude and Cloudiness. "
   ]
  },
  {
   "cell_type": "markdown",
   "metadata": {},
   "source": [
    "#### Latitude vs. Wind Speed Plot"
   ]
  },
  {
   "cell_type": "code",
   "execution_count": 16,
   "metadata": {},
   "outputs": [
    {
     "data": {
      "image/png": "[encoded data removed]",
      "text/plain": [
       "<Figure size 432x288 with 1 Axes>"
      ]
     },
     "metadata": {
      "needs_background": "light"
     },
     "output_type": "display_data"
    },
    {
     "data": {
      "text/plain": [
       "<Figure size 432x288 with 0 Axes>"
      ]
     },
     "metadata": {},
     "output_type": "display_data"
    }
   ],
   "source": [
    "# Create a Scatter Plot for wind speed vs latitude\n",
    "x_values = weather_df['Lat']\n",
    "y_values = weather_df['Wind Speed']\n",
    "plt.scatter(x_values,y_values)\n",
    "plt.xlabel('Latitude')\n",
    "plt.ylabel('Wind Speed')\n",
    "plt.xlim(-60,80)\n",
    "plt.ylim(0,50)\n",
    "plt.title(\"City Latitude vs Wind Speed (3/16/20)\")\n",
    "plt.grid()\n",
    "plt.show()\n",
    "\n",
    "# Save Figure\n",
    "plt.savefig(\"../output_data/Fig4\")"
   ]
  },
  {
   "cell_type": "markdown",
   "metadata": {},
   "source": [
    "Wind Speed is pretty even throughout the various cities across latitudes. There does not seem to be any correlation between city latitude and wind speed. "
   ]
  },
  {
   "cell_type": "markdown",
   "metadata": {},
   "source": [
    "## Linear Regression"
   ]
  },
  {
   "cell_type": "code",
   "execution_count": null,
   "metadata": {},
   "outputs": [],
   "source": [
    "# OPTIONAL: Create a function to create Linear Regression plots\n"
   ]
  },
  {
   "cell_type": "code",
   "execution_count": 17,
   "metadata": {},
   "outputs": [
    {
     "data": {
      "text/html": [
       "<div>\n",
       "<style scoped>\n",
       "    .dataframe tbody tr th:only-of-type {\n",
       "        vertical-align: middle;\n",
       "    }\n",
       "\n",
       "    .dataframe tbody tr th {\n",
       "        vertical-align: top;\n",
       "    }\n",
       "\n",
       "    .dataframe thead th {\n",
       "        text-align: right;\n",
       "    }\n",
       "</style>\n",
       "<table border=\"1\" class=\"dataframe\">\n",
       "  <thead>\n",
       "    <tr style=\"text-align: right;\">\n",
       "      <th></th>\n",
       "      <th>City</th>\n",
       "      <th>Cloudiness</th>\n",
       "      <th>Country</th>\n",
       "      <th>Date</th>\n",
       "      <th>Humidity</th>\n",
       "      <th>Lat</th>\n",
       "      <th>Lng</th>\n",
       "      <th>Max Temp</th>\n",
       "      <th>Wind Speed</th>\n",
       "    </tr>\n",
       "  </thead>\n",
       "  <tbody>\n",
       "    <tr>\n",
       "      <td>1</td>\n",
       "      <td>Cabo San Lucas</td>\n",
       "      <td>20</td>\n",
       "      <td>MX</td>\n",
       "      <td>1584393951</td>\n",
       "      <td>47</td>\n",
       "      <td>22.89</td>\n",
       "      <td>-109.91</td>\n",
       "      <td>82.99</td>\n",
       "      <td>6.93</td>\n",
       "    </tr>\n",
       "    <tr>\n",
       "      <td>2</td>\n",
       "      <td>Kapaa</td>\n",
       "      <td>90</td>\n",
       "      <td>US</td>\n",
       "      <td>1584394246</td>\n",
       "      <td>94</td>\n",
       "      <td>22.08</td>\n",
       "      <td>-159.32</td>\n",
       "      <td>73.40</td>\n",
       "      <td>26.40</td>\n",
       "    </tr>\n",
       "    <tr>\n",
       "      <td>3</td>\n",
       "      <td>Ikot Ekpene</td>\n",
       "      <td>100</td>\n",
       "      <td>NG</td>\n",
       "      <td>1584394247</td>\n",
       "      <td>77</td>\n",
       "      <td>5.18</td>\n",
       "      <td>7.71</td>\n",
       "      <td>82.49</td>\n",
       "      <td>7.99</td>\n",
       "    </tr>\n",
       "    <tr>\n",
       "      <td>6</td>\n",
       "      <td>San Cristobal</td>\n",
       "      <td>40</td>\n",
       "      <td>VE</td>\n",
       "      <td>1584394094</td>\n",
       "      <td>52</td>\n",
       "      <td>7.77</td>\n",
       "      <td>-72.22</td>\n",
       "      <td>87.80</td>\n",
       "      <td>12.75</td>\n",
       "    </tr>\n",
       "    <tr>\n",
       "      <td>7</td>\n",
       "      <td>Saint George</td>\n",
       "      <td>1</td>\n",
       "      <td>US</td>\n",
       "      <td>1584394072</td>\n",
       "      <td>36</td>\n",
       "      <td>37.10</td>\n",
       "      <td>-113.58</td>\n",
       "      <td>68.00</td>\n",
       "      <td>5.82</td>\n",
       "    </tr>\n",
       "  </tbody>\n",
       "</table>\n",
       "</div>"
      ],
      "text/plain": [
       "             City  Cloudiness Country        Date  Humidity    Lat     Lng  \\\n",
       "1  Cabo San Lucas          20      MX  1584393951        47  22.89 -109.91   \n",
       "2           Kapaa          90      US  1584394246        94  22.08 -159.32   \n",
       "3     Ikot Ekpene         100      NG  1584394247        77   5.18    7.71   \n",
       "6   San Cristobal          40      VE  1584394094        52   7.77  -72.22   \n",
       "7    Saint George           1      US  1584394072        36  37.10 -113.58   \n",
       "\n",
       "   Max Temp  Wind Speed  \n",
       "1     82.99        6.93  \n",
       "2     73.40       26.40  \n",
       "3     82.49        7.99  \n",
       "6     87.80       12.75  \n",
       "7     68.00        5.82  "
      ]
     },
     "execution_count": 17,
     "metadata": {},
     "output_type": "execute_result"
    }
   ],
   "source": [
    "# Create Northern and Southern Hemisphere DataFrames\n",
    "northern_hemisphere = weather_df.loc[weather_df[\"Lat\"]>0.01]\n",
    "southern_hemisphere = weather_df.loc[weather_df[\"Lat\"]<-0.01]\n",
    "\n",
    "northern_hemisphere.head()\n",
    "# southern_hemisphere.head()"
   ]
  },
  {
   "cell_type": "markdown",
   "metadata": {},
   "source": [
    "####  Northern Hemisphere - Max Temp vs. Latitude Linear Regression"
   ]
  },
  {
   "cell_type": "code",
   "execution_count": 18,
   "metadata": {},
   "outputs": [
    {
     "name": "stdout",
     "output_type": "stream",
     "text": [
      "R squard: -0.8992839700777672\n"
     ]
    },
    {
     "data": {
      "image/png": "[encoded data removed]",
      "text/plain": [
       "<Figure size 432x288 with 1 Axes>"
      ]
     },
     "metadata": {
      "needs_background": "light"
     },
     "output_type": "display_data"
    }
   ],
   "source": [
    "## Convert to floats and store Max Temp and Latitude as x and y values\n",
    "x_values = northern_hemisphere['Lat'].astype('float')\n",
    "y_values = northern_hemisphere['Max Temp'].astype('float')\n",
    "\n",
    "# Run linear regression\n",
    "(slope, intercept, rvalue, pvalue, stderr) = linregress(x_values, y_values)\n",
    "regress_values = x_values * slope + intercept\n",
    "line_eq = \"y = \" + str(round(slope,2)) + \"x + \" + str(round(intercept,2))\n",
    "\n",
    "# Plot scatter plot\n",
    "plt.scatter(x_values,y_values)\n",
    "\n",
    "# Plot regression line\n",
    "plt.plot(x_values,regress_values,\"r-\")\n",
    "plt.annotate(line_eq,(10,0),fontsize=15,color=\"red\")\n",
    "\n",
    "# Label plot\n",
    "plt.xlabel('Latitude')\n",
    "plt.ylabel('Temperature (F)')\n",
    "plt.title('Northern Hemisphere - Max Temp vs. Latitude')\n",
    "\n",
    "# Print r square value\n",
    "print(f\"R squard: {rvalue}\")\n",
    "\n",
    "# Show plot\n",
    "plt.show()"
   ]
  },
  {
   "cell_type": "markdown",
   "metadata": {},
   "source": [
    "There is a very strong correlation (R-square of -0.899) between Temp and Latitude in the Northern Hemisphere. \n",
    "The closer the city to the equator, the higher the temperature."
   ]
  },
  {
   "cell_type": "markdown",
   "metadata": {},
   "source": [
    "####  Southern Hemisphere - Max Temp vs. Latitude Linear Regression"
   ]
  },
  {
   "cell_type": "code",
   "execution_count": 19,
   "metadata": {},
   "outputs": [
    {
     "name": "stdout",
     "output_type": "stream",
     "text": [
      "R squard: 0.5910970347722745\n"
     ]
    },
    {
     "data": {
      "image/png": "[encoded data removed]",
      "text/plain": [
       "<Figure size 432x288 with 1 Axes>"
      ]
     },
     "metadata": {
      "needs_background": "light"
     },
     "output_type": "display_data"
    }
   ],
   "source": [
    "## Convert to floats and store Max Temp and Latitude as x and y values\n",
    "x_values = southern_hemisphere['Lat'].astype('float')\n",
    "y_values = southern_hemisphere['Max Temp'].astype('float')\n",
    "\n",
    "# Run linear regression\n",
    "(slope, intercept, rvalue, pvalue, stderr) = linregress(x_values, y_values)\n",
    "regress_values = x_values * slope + intercept\n",
    "line_eq = \"y = \" + str(round(slope,2)) + \"x + \" + str(round(intercept,2))\n",
    "\n",
    "# Plot scatter plot\n",
    "plt.scatter(x_values,y_values)\n",
    "\n",
    "# Plot regression line\n",
    "plt.plot(x_values,regress_values,\"r-\")\n",
    "plt.annotate(line_eq,(-30,55),fontsize=15,color=\"red\")\n",
    "\n",
    "# Label plot\n",
    "plt.xlabel('Latitude')\n",
    "plt.ylabel('Temperature (F)')\n",
    "plt.title('Southern Hemisphere - Max Temp vs. Latitude')\n",
    "\n",
    "# Print r square value\n",
    "print(f\"R squard: {rvalue}\")\n",
    "\n",
    "# Show plot\n",
    "plt.show()"
   ]
  },
  {
   "cell_type": "markdown",
   "metadata": {},
   "source": [
    "There is a strong correlation (R-squared of 0.591) between temperature and city latitude in the Southern Hemisphere. \n",
    "The closer the city to the equator, the higher the temperature."
   ]
  },
  {
   "cell_type": "markdown",
   "metadata": {},
   "source": [
    "####  Northern Hemisphere - Humidity (%) vs. Latitude Linear Regression"
   ]
  },
  {
   "cell_type": "code",
   "execution_count": 20,
   "metadata": {},
   "outputs": [
    {
     "name": "stdout",
     "output_type": "stream",
     "text": [
      "R squard: 0.30954729639423195\n"
     ]
    },
    {
     "data": {
      "image/png": "[encoded data removed]",
      "text/plain": [
       "<Figure size 432x288 with 1 Axes>"
      ]
     },
     "metadata": {
      "needs_background": "light"
     },
     "output_type": "display_data"
    }
   ],
   "source": [
    "## Convert to floats and store Humidity and Latitude as x and y values\n",
    "x_values = northern_hemisphere['Lat'].astype('float')\n",
    "y_values = northern_hemisphere['Humidity'].astype('float')\n",
    "\n",
    "# Run linear regression\n",
    "(slope, intercept, rvalue, pvalue, stderr) = linregress(x_values, y_values)\n",
    "regress_values = x_values * slope + intercept\n",
    "line_eq = \"y = \" + str(round(slope,2)) + \"x + \" + str(round(intercept,2))\n",
    "\n",
    "# Plot scatter plot\n",
    "plt.scatter(x_values,y_values)\n",
    "\n",
    "# Plot regression line\n",
    "plt.plot(x_values,regress_values,\"r-\")\n",
    "plt.annotate(line_eq,(45,28),fontsize=15,color=\"red\")\n",
    "\n",
    "# Label plot\n",
    "plt.xlabel('Latitude')\n",
    "plt.ylabel('Humidity (%)')\n",
    "plt.title('Northern Hemisphere - Humidity (%) vs. Latitude')\n",
    "\n",
    "# Print r square value\n",
    "print(f\"R squard: {rvalue}\")\n",
    "\n",
    "# Show plot\n",
    "plt.show()"
   ]
  },
  {
   "cell_type": "markdown",
   "metadata": {},
   "source": [
    "There is a weak correlation (R-squared of 0.31) between Humidity % and City Latitude in the Northern Hemisphere."
   ]
  },
  {
   "cell_type": "markdown",
   "metadata": {},
   "source": [
    "####  Southern Hemisphere - Humidity (%) vs. Latitude Linear Regression"
   ]
  },
  {
   "cell_type": "code",
   "execution_count": 21,
   "metadata": {},
   "outputs": [
    {
     "name": "stdout",
     "output_type": "stream",
     "text": [
      "R squard: 0.30430936628869404\n"
     ]
    },
    {
     "data": {
      "image/png": "[encoded data removed]",
      "text/plain": [
       "<Figure size 432x288 with 1 Axes>"
      ]
     },
     "metadata": {
      "needs_background": "light"
     },
     "output_type": "display_data"
    }
   ],
   "source": [
    "## Convert to floats and store Humidity and Latitude as x and y values\n",
    "x_values = southern_hemisphere['Lat'].astype('float')\n",
    "y_values = southern_hemisphere['Humidity'].astype('float')\n",
    "\n",
    "# Run linear regression\n",
    "(slope, intercept, rvalue, pvalue, stderr) = linregress(x_values, y_values)\n",
    "regress_values = x_values * slope + intercept\n",
    "line_eq = \"y = \" + str(round(slope,2)) + \"x + \" + str(round(intercept,2))\n",
    "\n",
    "# Plot scatter plot\n",
    "plt.scatter(x_values,y_values)\n",
    "\n",
    "# Plot regression line\n",
    "plt.plot(x_values,regress_values,\"r-\")\n",
    "plt.annotate(line_eq,(-45,20),fontsize=15,color=\"red\")\n",
    "\n",
    "# Label plot\n",
    "plt.xlabel('Latitude')\n",
    "plt.ylabel('Humidity (%)')\n",
    "plt.title('Southern Hemisphere - Humidity (%) vs. Latitude')\n",
    "\n",
    "# Print r square value\n",
    "print(f\"R squard: {rvalue}\")\n",
    "\n",
    "# Show plot\n",
    "plt.show()"
   ]
  },
  {
   "cell_type": "markdown",
   "metadata": {},
   "source": [
    "There is a weak correlation (R-squared of 0.304) between Humidity % and City Latitude in the Southern Hemisphere."
   ]
  },
  {
   "cell_type": "markdown",
   "metadata": {},
   "source": [
    "####  Northern Hemisphere - Cloudiness (%) vs. Latitude Linear Regression"
   ]
  },
  {
   "cell_type": "code",
   "execution_count": 22,
   "metadata": {},
   "outputs": [
    {
     "name": "stdout",
     "output_type": "stream",
     "text": [
      "R squard: 0.16011497954992018\n"
     ]
    },
    {
     "data": {
      "image/png": "[encoded data removed]",
      "text/plain": [
       "<Figure size 432x288 with 1 Axes>"
      ]
     },
     "metadata": {
      "needs_background": "light"
     },
     "output_type": "display_data"
    }
   ],
   "source": [
    "## Convert to floats and store Cloudiness and Latitude as x and y values\n",
    "x_values = northern_hemisphere['Lat'].astype('float')\n",
    "y_values = northern_hemisphere['Cloudiness'].astype('float')\n",
    "\n",
    "# Run linear regression\n",
    "(slope, intercept, rvalue, pvalue, stderr) = linregress(x_values, y_values)\n",
    "regress_values = x_values * slope + intercept\n",
    "line_eq = \"y = \" + str(round(slope,2)) + \"x + \" + str(round(intercept,2))\n",
    "\n",
    "# Plot scatter plot\n",
    "plt.scatter(x_values,y_values)\n",
    "\n",
    "# Plot regression line\n",
    "plt.plot(x_values,regress_values,\"r-\")\n",
    "plt.annotate(line_eq,(45,28),fontsize=15,color=\"red\")\n",
    "\n",
    "# Label plot\n",
    "plt.xlabel('Latitude')\n",
    "plt.ylabel('Humidity (%)')\n",
    "plt.title('Northern Hemisphere - Cloudiness (%) vs. Latitude')\n",
    "\n",
    "# Print r square value\n",
    "print(f\"R squard: {rvalue}\")\n",
    "\n",
    "# Show plot\n",
    "plt.show()"
   ]
  },
  {
   "cell_type": "markdown",
   "metadata": {},
   "source": [
    "There is a very weak correlation (R-squared of 0.16) between Cloudiness % and City Latitude in the Northern Hemisphere."
   ]
  },
  {
   "cell_type": "markdown",
   "metadata": {},
   "source": [
    "####  Southern Hemisphere - Cloudiness (%) vs. Latitude Linear Regression"
   ]
  },
  {
   "cell_type": "code",
   "execution_count": 23,
   "metadata": {},
   "outputs": [
    {
     "name": "stdout",
     "output_type": "stream",
     "text": [
      "R squard: 0.21383200834781893\n"
     ]
    },
    {
     "data": {
      "image/png": "[encoded data removed]",
      "text/plain": [
       "<Figure size 432x288 with 1 Axes>"
      ]
     },
     "metadata": {
      "needs_background": "light"
     },
     "output_type": "display_data"
    }
   ],
   "source": [
    "## Convert to floats and store Cloudiness and Latitude as x and y values\n",
    "x_values = southern_hemisphere['Lat'].astype('float')\n",
    "y_values = southern_hemisphere['Cloudiness'].astype('float')\n",
    "\n",
    "# Run linear regression\n",
    "(slope, intercept, rvalue, pvalue, stderr) = linregress(x_values, y_values)\n",
    "regress_values = x_values * slope + intercept\n",
    "line_eq = \"y = \" + str(round(slope,2)) + \"x + \" + str(round(intercept,2))\n",
    "\n",
    "# Plot scatter plot\n",
    "plt.scatter(x_values,y_values)\n",
    "\n",
    "# Plot regression line\n",
    "plt.plot(x_values,regress_values,\"r-\")\n",
    "plt.annotate(line_eq,(-45,28),fontsize=15,color=\"red\")\n",
    "\n",
    "# Label plot\n",
    "plt.xlabel('Latitude')\n",
    "plt.ylabel('Humidity (%)')\n",
    "plt.title('Southern Hemisphere - Cloudiness (%) vs. Latitude')\n",
    "\n",
    "# Print r square value\n",
    "print(f\"R squard: {rvalue}\")\n",
    "\n",
    "# Show plot\n",
    "plt.show()"
   ]
  },
  {
   "cell_type": "markdown",
   "metadata": {},
   "source": [
    "There is a weak correlation (R-squared of 0.214) between Cloudiness % and City Latitude in the Southern Hemisphere."
   ]
  },
  {
   "cell_type": "markdown",
   "metadata": {},
   "source": [
    "####  Northern Hemisphere - Wind Speed (mph) vs. Latitude Linear Regression"
   ]
  },
  {
   "cell_type": "code",
   "execution_count": 24,
   "metadata": {},
   "outputs": [
    {
     "name": "stdout",
     "output_type": "stream",
     "text": [
      "R squard: 0.07758553567282127\n"
     ]
    },
    {
     "data": {
      "image/png": "[encoded data removed]",
      "text/plain": [
       "<Figure size 432x288 with 1 Axes>"
      ]
     },
     "metadata": {
      "needs_background": "light"
     },
     "output_type": "display_data"
    }
   ],
   "source": [
    "## Convert to floats and store Wind Speed and Latitude as x and y values\n",
    "x_values = northern_hemisphere['Lat'].astype('float')\n",
    "y_values = northern_hemisphere['Wind Speed'].astype('float')\n",
    "\n",
    "# Run linear regression\n",
    "(slope, intercept, rvalue, pvalue, stderr) = linregress(x_values, y_values)\n",
    "regress_values = x_values * slope + intercept\n",
    "line_eq = \"y = \" + str(round(slope,2)) + \"x + \" + str(round(intercept,2))\n",
    "\n",
    "# Plot scatter plot\n",
    "plt.scatter(x_values,y_values)\n",
    "\n",
    "# Plot regression line\n",
    "plt.plot(x_values,regress_values,\"r-\")\n",
    "plt.annotate(line_eq,(45,28),fontsize=15,color=\"red\")\n",
    "\n",
    "# Label plot\n",
    "plt.xlabel('Latitude')\n",
    "plt.ylabel('Humidity (%)')\n",
    "plt.title('Northern Hemisphere - Wind Speed (mph) vs. Latitude')\n",
    "\n",
    "# Print r square value\n",
    "print(f\"R squard: {rvalue}\")\n",
    "\n",
    "# Show plot\n",
    "plt.show()"
   ]
  },
  {
   "cell_type": "markdown",
   "metadata": {},
   "source": [
    "There is a very weak correlation (R-squared of 0.078) between Wind Speed (mph) and City Latitude in the Northern Hemisphere."
   ]
  },
  {
   "cell_type": "markdown",
   "metadata": {},
   "source": [
    "####  Southern Hemisphere - Wind Speed (mph) vs. Latitude Linear Regression"
   ]
  },
  {
   "cell_type": "code",
   "execution_count": 25,
   "metadata": {},
   "outputs": [
    {
     "name": "stdout",
     "output_type": "stream",
     "text": [
      "R squard: -0.4230220818647408\n"
     ]
    },
    {
     "data": {
      "image/png": "[encoded data removed]",
      "text/plain": [
       "<Figure size 432x288 with 1 Axes>"
      ]
     },
     "metadata": {
      "needs_background": "light"
     },
     "output_type": "display_data"
    }
   ],
   "source": [
    "## Convert to floats and store Wind Speed and Latitude as x and y values\n",
    "x_values = southern_hemisphere['Lat'].astype('float')\n",
    "y_values = southern_hemisphere['Wind Speed'].astype('float')\n",
    "\n",
    "# Run linear regression\n",
    "(slope, intercept, rvalue, pvalue, stderr) = linregress(x_values, y_values)\n",
    "regress_values = x_values * slope + intercept\n",
    "line_eq = \"y = \" + str(round(slope,2)) + \"x + \" + str(round(intercept,2))\n",
    "\n",
    "# Plot scatter plot\n",
    "plt.scatter(x_values,y_values)\n",
    "\n",
    "# Plot regression line\n",
    "plt.plot(x_values,regress_values,\"r-\")\n",
    "plt.annotate(line_eq,(-45,23),fontsize=15,color=\"red\")\n",
    "\n",
    "# Label plot\n",
    "plt.xlabel('Latitude')\n",
    "plt.ylabel('Humidity (%)')\n",
    "plt.title('Southern Hemisphere - Wind Speed (mph) vs. Latitude')\n",
    "\n",
    "# Print r square value\n",
    "print(f\"R squard: {rvalue}\")\n",
    "\n",
    "# Show plot\n",
    "plt.show()"
   ]
  },
  {
   "cell_type": "markdown",
   "metadata": {},
   "source": [
    "There is a weak correlation (R-squared of -0.423) between Wind Speed (mph) and City Latitude in the Southern Hemisphere."
   ]
  },
  {
   "cell_type": "code",
   "execution_count": null,
   "metadata": {},
   "outputs": [],
   "source": []
  }
 ],
 "metadata": {
  "anaconda-cloud": {},
  "kernel_info": {
   "name": "python3"
  },
  "kernelspec": {
   "display_name": "Python 3",
   "language": "python",
   "name": "python3"
  },
  "language_info": {
   "codemirror_mode": {
    "name": "ipython",
    "version": 3
   },
   "file_extension": ".py",
   "mimetype": "text/x-python",
   "name": "python",
   "nbconvert_exporter": "python",
   "pygments_lexer": "ipython3",
   "version": "3.7.4"
  },
  "latex_envs": {
   "LaTeX_envs_menu_present": true,
   "autoclose": false,
   "autocomplete": true,
   "bibliofile": "biblio.bib",
   "cite_by": "apalike",
   "current_citInitial": 1,
   "eqLabelWithNumbers": true,
   "eqNumInitial": 1,
   "hotkeys": {
    "equation": "Ctrl-E",
    "itemize": "Ctrl-I"
   },
   "labels_anchors": false,
   "latex_user_defs": false,
   "report_style_numbering": false,
   "user_envs_cfg": false
  },
  "nteract": {
   "version": "0.12.3"
  }
 },
 "nbformat": 4,
 "nbformat_minor": 2
}

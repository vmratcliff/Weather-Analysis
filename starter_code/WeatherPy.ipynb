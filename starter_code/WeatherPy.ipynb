{
 "cells": [
  {
   "cell_type": "markdown",
   "metadata": {},
   "source": [
    "# WeatherPy\n",
    "----\n",
    "\n",
    "#### Note\n",
    "* Instructions have been included for each segment. You do not have to follow them exactly, but they are included to help you think through the steps."
   ]
  },
  {
   "cell_type": "code",
   "execution_count": 1,
   "metadata": {
    "scrolled": true
   },
   "outputs": [],
   "source": [
    "# Dependencies and Setup\n",
    "import matplotlib.pyplot as plt\n",
    "import pandas as pd\n",
    "import numpy as np\n",
    "import requests\n",
    "import time\n",
    "from scipy.stats import linregress\n",
    "\n",
    "# Import API key\n",
    "from api_keys import weather_api_key\n",
    "\n",
    "# Incorporated citipy to determine city based on latitude and longitude\n",
    "from citipy import citipy\n",
    "\n",
    "# Output File (CSV)\n",
    "output_data_file = \"../output_data/cities.csv\"\n",
    "\n",
    "# Range of latitudes and longitudes\n",
    "lat_range = (-90, 90)\n",
    "lng_range = (-180, 180)"
   ]
  },
  {
   "cell_type": "markdown",
   "metadata": {},
   "source": [
    "## Generate Cities List"
   ]
  },
  {
   "cell_type": "code",
   "execution_count": 2,
   "metadata": {},
   "outputs": [
    {
     "data": {
      "text/plain": [
       "618"
      ]
     },
     "execution_count": 2,
     "metadata": {},
     "output_type": "execute_result"
    }
   ],
   "source": [
    "# List for holding lat_lngs and cities\n",
    "lat_lngs = []\n",
    "cities = []\n",
    "\n",
    "# Create a set of random lat and lng combinations\n",
    "lats = np.random.uniform(low=-90.000, high=90.000, size=1500)\n",
    "lngs = np.random.uniform(low=-180.000, high=180.000, size=1500)\n",
    "lat_lngs = zip(lats, lngs)\n",
    "\n",
    "# Identify nearest city for each lat, lng combination\n",
    "for lat_lng in lat_lngs:\n",
    "    city = citipy.nearest_city(lat_lng[0], lat_lng[1]).city_name\n",
    "    \n",
    "    # If the city is unique, then add it to a our cities list\n",
    "    if city not in cities:\n",
    "        cities.append(city)\n",
    "\n",
    "# Print the city count to confirm sufficient count\n",
    "len(cities)"
   ]
  },
  {
   "cell_type": "markdown",
   "metadata": {},
   "source": [
    "### Perform API Calls\n",
    "* Perform a weather check on each city using a series of successive API calls.\n",
    "* Include a print log of each city as it's being processed (with the city number and city name).\n"
   ]
  },
  {
   "cell_type": "code",
   "execution_count": 3,
   "metadata": {},
   "outputs": [],
   "source": [
    "# URL\n",
    "url = \"http://api.openweathermap.org/data/2.5/weather?\"\n",
    "\n",
    "units = \"imperial\"\n",
    "desired_keys = ['clouds.all','sys.country','dt','main.humidity','main.temp_max','wind.speed','coord.lat','coord.lon']\n",
    "    \n",
    "# Build partial query URL\n",
    "query_url = f\"{url}appid={weather_api_key}&units={units}\""
   ]
  },
  {
   "cell_type": "code",
   "execution_count": 4,
   "metadata": {},
   "outputs": [],
   "source": [
    "# Create Lists\n",
    "city_name = []\n",
    "cloudiness = []\n",
    "country = []\n",
    "date = []\n",
    "humidity = []\n",
    "lat = []\n",
    "lng = []\n",
    "max_temp = []\n",
    "wind_speed = []"
   ]
  },
  {
   "cell_type": "code",
   "execution_count": 5,
   "metadata": {},
   "outputs": [
    {
     "name": "stdout",
     "output_type": "stream",
     "text": [
      "Beginning Data Retrieval \n",
      " -------------------------\n",
      "Processing Record 1 of Set 1 |  ushuaia\n",
      "Processing Record 2 of Set 1 |  mataura\n",
      "Processing Record 3 of Set 1 |  kloulklubed\n",
      "Processing Record 4 of Set 1 |  port hardy\n",
      "Processing Record 5 of Set 1 |  qaanaaq\n",
      "Processing Record 6 of Set 1 |  cherskiy\n",
      "Processing Record 7 of Set 1 |  vaini\n",
      "Processing Record 8 of Set 1 |  tokur\n",
      "Processing Record 9 of Set 1 |  bathsheba\n",
      "Processing Record 10 of Set 1 |  antipino\n",
      "Processing Record 11 of Set 1 |  deputatskiy\n",
      "Processing Record 12 of Set 1 |  at-bashi\n",
      "Processing Record 13 of Set 1 |  carnarvon\n",
      "Processing Record 14 of Set 1 |  iskar\n",
      "Processing Record 15 of Set 1 |  rawson\n",
      "Processing Record 16 of Set 1 |  ponta do sol\n",
      "Processing Record 17 of Set 1 |  cidreira\n",
      "Processing Record 18 of Set 1 |  grindavik\n",
      "Processing Record 19 of Set 1 |  bredasdorp\n",
      "City not found. Skipping...\n",
      "Processing Record 20 of Set 1 |  svetlogorsk\n",
      "Processing Record 21 of Set 1 |  mareeba\n",
      "Processing Record 22 of Set 1 |  clyde river\n",
      "Processing Record 23 of Set 1 |  kytmanovo\n",
      "Processing Record 24 of Set 1 |  touros\n",
      "Processing Record 25 of Set 1 |  hobart\n",
      "Processing Record 26 of Set 1 |  champerico\n",
      "Processing Record 27 of Set 1 |  belyy yar\n",
      "Processing Record 28 of Set 1 |  saint-philippe\n",
      "Processing Record 29 of Set 1 |  khasan\n",
      "Processing Record 30 of Set 1 |  beringovskiy\n",
      "Processing Record 31 of Set 1 |  hilo\n",
      "Processing Record 32 of Set 1 |  cape town\n",
      "Processing Record 33 of Set 1 |  rikitea\n",
      "Processing Record 34 of Set 1 |  puerto ayora\n",
      "City not found. Skipping...\n",
      "Processing Record 35 of Set 1 |  faanui\n",
      "Processing Record 36 of Set 1 |  longyearbyen\n",
      "Processing Record 37 of Set 1 |  barrow\n",
      "Processing Record 38 of Set 1 |  norman wells\n",
      "Processing Record 39 of Set 1 |  busselton\n",
      "Processing Record 40 of Set 1 |  port alfred\n",
      "Processing Record 41 of Set 1 |  linxia\n",
      "Processing Record 42 of Set 1 |  charagua\n",
      "Processing Record 43 of Set 1 |  dikson\n",
      "Processing Record 44 of Set 1 |  portel\n",
      "Processing Record 45 of Set 1 |  east london\n",
      "Processing Record 46 of Set 1 |  cockburn town\n",
      "City not found. Skipping...\n",
      "City not found. Skipping...\n",
      "Processing Record 47 of Set 1 |  geraldton\n",
      "Processing Record 48 of Set 1 |  new norfolk\n",
      "Processing Record 49 of Set 1 |  senador jose porfirio\n",
      "Processing Record 50 of Set 1 |  podgornoye\n",
      "Processing Record 1 of Set 2 |  asau\n",
      "Processing Record 2 of Set 2 |  iracoubo\n",
      "Processing Record 3 of Set 2 |  bitung\n",
      "Processing Record 4 of Set 2 |  tasiilaq\n",
      "City not found. Skipping...\n",
      "Processing Record 5 of Set 2 |  nikolskoye\n",
      "Processing Record 6 of Set 2 |  izberbash\n",
      "Processing Record 7 of Set 2 |  butaritari\n",
      "Processing Record 8 of Set 2 |  bluff\n",
      "Processing Record 9 of Set 2 |  yaring\n",
      "Processing Record 10 of Set 2 |  bambous virieux\n",
      "Processing Record 11 of Set 2 |  sao filipe\n",
      "Processing Record 12 of Set 2 |  yellowknife\n",
      "City not found. Skipping...\n",
      "City not found. Skipping...\n",
      "Processing Record 13 of Set 2 |  norrtalje\n",
      "Processing Record 14 of Set 2 |  punta arenas\n",
      "Processing Record 15 of Set 2 |  hithadhoo\n",
      "Processing Record 16 of Set 2 |  arlit\n",
      "Processing Record 17 of Set 2 |  severo-kurilsk\n",
      "Processing Record 18 of Set 2 |  hammerfest\n",
      "City not found. Skipping...\n",
      "Processing Record 19 of Set 2 |  shimoda\n",
      "Processing Record 20 of Set 2 |  tadine\n",
      "Processing Record 21 of Set 2 |  talnakh\n",
      "Processing Record 22 of Set 2 |  galesong\n",
      "Processing Record 23 of Set 2 |  saskylakh\n",
      "Processing Record 24 of Set 2 |  vanimo\n",
      "Processing Record 25 of Set 2 |  arnprior\n",
      "Processing Record 26 of Set 2 |  saint george\n",
      "Processing Record 27 of Set 2 |  surin\n",
      "Processing Record 28 of Set 2 |  kaka\n",
      "City not found. Skipping...\n",
      "Processing Record 29 of Set 2 |  mar del plata\n",
      "Processing Record 30 of Set 2 |  caravelas\n",
      "Processing Record 31 of Set 2 |  banjar\n",
      "Processing Record 32 of Set 2 |  port elizabeth\n",
      "Processing Record 33 of Set 2 |  luderitz\n",
      "Processing Record 34 of Set 2 |  kodino\n",
      "Processing Record 35 of Set 2 |  filingue\n",
      "Processing Record 36 of Set 2 |  papara\n",
      "Processing Record 37 of Set 2 |  puerto escondido\n",
      "Processing Record 38 of Set 2 |  bengkulu\n",
      "Processing Record 39 of Set 2 |  lompoc\n",
      "Processing Record 40 of Set 2 |  kalmunai\n",
      "Processing Record 41 of Set 2 |  kodiak\n",
      "Processing Record 42 of Set 2 |  nome\n",
      "Processing Record 43 of Set 2 |  mufulira\n",
      "Processing Record 44 of Set 2 |  am timan\n",
      "Processing Record 45 of Set 2 |  nantucket\n",
      "Processing Record 46 of Set 2 |  iquique\n",
      "Processing Record 47 of Set 2 |  mahebourg\n",
      "Processing Record 48 of Set 2 |  dzilam gonzalez\n",
      "Processing Record 49 of Set 2 |  nanortalik\n",
      "Processing Record 50 of Set 2 |  khatanga\n",
      "Processing Record 1 of Set 3 |  kapaa\n",
      "Processing Record 2 of Set 3 |  airai\n",
      "Processing Record 3 of Set 3 |  jumla\n",
      "Processing Record 4 of Set 3 |  klyuchi\n",
      "Processing Record 5 of Set 3 |  sur\n",
      "Processing Record 6 of Set 3 |  kurumkan\n",
      "Processing Record 7 of Set 3 |  oussouye\n",
      "Processing Record 8 of Set 3 |  marzuq\n",
      "Processing Record 9 of Set 3 |  sembe\n",
      "Processing Record 10 of Set 3 |  namibe\n",
      "Processing Record 11 of Set 3 |  belmonte\n",
      "Processing Record 12 of Set 3 |  avarua\n",
      "City not found. Skipping...\n",
      "City not found. Skipping...\n",
      "Processing Record 13 of Set 3 |  metro\n",
      "Processing Record 14 of Set 3 |  tuktoyaktuk\n",
      "Processing Record 15 of Set 3 |  iqaluit\n",
      "Processing Record 16 of Set 3 |  yangjiang\n",
      "Processing Record 17 of Set 3 |  provideniya\n",
      "Processing Record 18 of Set 3 |  erenhot\n",
      "Processing Record 19 of Set 3 |  phaltan\n",
      "Processing Record 20 of Set 3 |  jasdan\n",
      "City not found. Skipping...\n",
      "Processing Record 21 of Set 3 |  atuona\n",
      "Processing Record 22 of Set 3 |  pochutla\n",
      "Processing Record 23 of Set 3 |  taoudenni\n",
      "Processing Record 24 of Set 3 |  albany\n",
      "Processing Record 25 of Set 3 |  san patricio\n",
      "Processing Record 26 of Set 3 |  muniz freire\n",
      "Processing Record 27 of Set 3 |  chapais\n",
      "Processing Record 28 of Set 3 |  katsuura\n",
      "Processing Record 29 of Set 3 |  saint anthony\n",
      "Processing Record 30 of Set 3 |  xichang\n",
      "Processing Record 31 of Set 3 |  dingle\n",
      "Processing Record 32 of Set 3 |  livingston\n",
      "Processing Record 33 of Set 3 |  jamestown\n",
      "Processing Record 34 of Set 3 |  todos santos\n",
      "Processing Record 35 of Set 3 |  tambopata\n",
      "Processing Record 36 of Set 3 |  noumea\n",
      "Processing Record 37 of Set 3 |  havelock\n",
      "Processing Record 38 of Set 3 |  georgetown\n",
      "Processing Record 39 of Set 3 |  almaznyy\n",
      "Processing Record 40 of Set 3 |  nishihara\n",
      "Processing Record 41 of Set 3 |  san cristobal\n",
      "Processing Record 42 of Set 3 |  sao gabriel da cachoeira\n",
      "Processing Record 43 of Set 3 |  topchikha\n",
      "Processing Record 44 of Set 3 |  saint-pierre\n",
      "City not found. Skipping...\n",
      "Processing Record 45 of Set 3 |  laguna\n",
      "Processing Record 46 of Set 3 |  taldan\n",
      "Processing Record 47 of Set 3 |  srednekolymsk\n",
      "Processing Record 48 of Set 3 |  ryotsu\n",
      "Processing Record 49 of Set 3 |  chokurdakh\n",
      "Processing Record 50 of Set 3 |  bayan\n",
      "Processing Record 1 of Set 4 |  nuevo progreso\n",
      "Processing Record 2 of Set 4 |  kirensk\n",
      "Processing Record 3 of Set 4 |  quepos\n",
      "Processing Record 4 of Set 4 |  santiago del estero\n",
      "Processing Record 5 of Set 4 |  chumikan\n",
      "Processing Record 6 of Set 4 |  khandyga\n",
      "Processing Record 7 of Set 4 |  sola\n",
      "Processing Record 8 of Set 4 |  broken hill\n",
      "City not found. Skipping...\n",
      "Processing Record 9 of Set 4 |  kaitangata\n",
      "Processing Record 10 of Set 4 |  barsovo\n",
      "Processing Record 11 of Set 4 |  bethel\n",
      "City not found. Skipping...\n",
      "Processing Record 12 of Set 4 |  te anau\n",
      "Processing Record 13 of Set 4 |  salalah\n",
      "Processing Record 14 of Set 4 |  dunedin\n",
      "Processing Record 15 of Set 4 |  gat\n",
      "Processing Record 16 of Set 4 |  balikpapan\n",
      "Processing Record 17 of Set 4 |  xining\n",
      "Processing Record 18 of Set 4 |  tarrafal\n",
      "Processing Record 19 of Set 4 |  fengcheng\n",
      "Processing Record 20 of Set 4 |  bontang\n",
      "Processing Record 21 of Set 4 |  constitucion\n",
      "Processing Record 22 of Set 4 |  genhe\n",
      "Processing Record 23 of Set 4 |  lakes entrance\n",
      "Processing Record 24 of Set 4 |  nuuk\n",
      "Processing Record 25 of Set 4 |  jacareacanga\n",
      "City not found. Skipping...\n",
      "Processing Record 26 of Set 4 |  makariv\n",
      "Processing Record 27 of Set 4 |  arraial do cabo\n",
      "Processing Record 28 of Set 4 |  ostrovnoy\n",
      "Processing Record 29 of Set 4 |  tiksi\n",
      "Processing Record 30 of Set 4 |  karpathos\n",
      "Processing Record 31 of Set 4 |  lebu\n",
      "Processing Record 32 of Set 4 |  killybegs\n"
     ]
    },
    {
     "name": "stdout",
     "output_type": "stream",
     "text": [
      "City not found. Skipping...\n",
      "Processing Record 33 of Set 4 |  umea\n",
      "Processing Record 34 of Set 4 |  mount isa\n",
      "Processing Record 35 of Set 4 |  ust-tsilma\n",
      "City not found. Skipping...\n",
      "Processing Record 36 of Set 4 |  hermanus\n",
      "Processing Record 37 of Set 4 |  flinders\n",
      "Processing Record 38 of Set 4 |  mount gambier\n",
      "Processing Record 39 of Set 4 |  aklavik\n",
      "Processing Record 40 of Set 4 |  kruisfontein\n",
      "Processing Record 41 of Set 4 |  thompson\n",
      "Processing Record 42 of Set 4 |  dobsina\n",
      "Processing Record 43 of Set 4 |  bisho\n",
      "Processing Record 44 of Set 4 |  linjiang\n",
      "Processing Record 45 of Set 4 |  kahului\n",
      "City not found. Skipping...\n",
      "Processing Record 46 of Set 4 |  margate\n",
      "City not found. Skipping...\n",
      "Processing Record 47 of Set 4 |  anadyr\n",
      "Processing Record 48 of Set 4 |  kaeo\n",
      "City not found. Skipping...\n",
      "Processing Record 49 of Set 4 |  bonavista\n",
      "Processing Record 50 of Set 4 |  sabang\n",
      "Processing Record 1 of Set 5 |  lipari\n",
      "Processing Record 2 of Set 5 |  fortuna\n",
      "Processing Record 3 of Set 5 |  narsaq\n",
      "Processing Record 4 of Set 5 |  lavumisa\n",
      "City not found. Skipping...\n",
      "Processing Record 5 of Set 5 |  cabedelo\n",
      "Processing Record 6 of Set 5 |  cooma\n",
      "Processing Record 7 of Set 5 |  upernavik\n",
      "Processing Record 8 of Set 5 |  formosa\n",
      "Processing Record 9 of Set 5 |  nushki\n",
      "Processing Record 10 of Set 5 |  tuatapere\n",
      "Processing Record 11 of Set 5 |  jonesboro\n",
      "Processing Record 12 of Set 5 |  hovd\n",
      "City not found. Skipping...\n",
      "Processing Record 13 of Set 5 |  kabinda\n",
      "Processing Record 14 of Set 5 |  katobu\n",
      "Processing Record 15 of Set 5 |  victoria\n",
      "Processing Record 16 of Set 5 |  bien hoa\n",
      "Processing Record 17 of Set 5 |  port hedland\n",
      "City not found. Skipping...\n",
      "Processing Record 18 of Set 5 |  avera\n",
      "Processing Record 19 of Set 5 |  yumen\n",
      "Processing Record 20 of Set 5 |  san lazaro\n",
      "Processing Record 21 of Set 5 |  pitsunda\n",
      "Processing Record 22 of Set 5 |  dale\n",
      "Processing Record 23 of Set 5 |  port lincoln\n",
      "Processing Record 24 of Set 5 |  inhambane\n",
      "Processing Record 25 of Set 5 |  mogadishu\n",
      "Processing Record 26 of Set 5 |  ribeira grande\n",
      "Processing Record 27 of Set 5 |  havoysund\n",
      "Processing Record 28 of Set 5 |  broome\n",
      "Processing Record 29 of Set 5 |  cove\n",
      "Processing Record 30 of Set 5 |  las vegas\n",
      "Processing Record 31 of Set 5 |  kemise\n",
      "Processing Record 32 of Set 5 |  qujing\n",
      "Processing Record 33 of Set 5 |  manono\n",
      "Processing Record 34 of Set 5 |  xihua\n",
      "Processing Record 35 of Set 5 |  salto\n",
      "Processing Record 36 of Set 5 |  acatlan\n",
      "Processing Record 37 of Set 5 |  pevek\n",
      "Processing Record 38 of Set 5 |  codrington\n",
      "Processing Record 39 of Set 5 |  mbandaka\n",
      "Processing Record 40 of Set 5 |  shache\n",
      "Processing Record 41 of Set 5 |  nago\n",
      "Processing Record 42 of Set 5 |  aginskoye\n",
      "City not found. Skipping...\n",
      "Processing Record 43 of Set 5 |  la palma\n",
      "Processing Record 44 of Set 5 |  mitsamiouli\n",
      "Processing Record 45 of Set 5 |  esso\n",
      "City not found. Skipping...\n",
      "Processing Record 46 of Set 5 |  pangnirtung\n",
      "Processing Record 47 of Set 5 |  chuy\n",
      "Processing Record 48 of Set 5 |  roald\n",
      "Processing Record 49 of Set 5 |  kelvington\n",
      "Processing Record 50 of Set 5 |  meulaboh\n",
      "Processing Record 1 of Set 6 |  guerrero negro\n",
      "Processing Record 2 of Set 6 |  nizhniy kuranakh\n",
      "Processing Record 3 of Set 6 |  hamilton\n",
      "Processing Record 4 of Set 6 |  havre-saint-pierre\n",
      "Processing Record 5 of Set 6 |  amahai\n",
      "Processing Record 6 of Set 6 |  fort nelson\n",
      "Processing Record 7 of Set 6 |  pauini\n",
      "Processing Record 8 of Set 6 |  gasa\n",
      "Processing Record 9 of Set 6 |  primorsko\n",
      "Processing Record 10 of Set 6 |  galle\n",
      "Processing Record 11 of Set 6 |  grimshaw\n",
      "Processing Record 12 of Set 6 |  torbay\n",
      "Processing Record 13 of Set 6 |  mendi\n",
      "Processing Record 14 of Set 6 |  lincoln\n",
      "City not found. Skipping...\n",
      "Processing Record 15 of Set 6 |  shirokiy\n",
      "Processing Record 16 of Set 6 |  ngunguru\n",
      "Processing Record 17 of Set 6 |  husavik\n",
      "Processing Record 18 of Set 6 |  soligalich\n",
      "Processing Record 19 of Set 6 |  santo estevao\n",
      "City not found. Skipping...\n",
      "Processing Record 20 of Set 6 |  diapaga\n",
      "Processing Record 21 of Set 6 |  hasaki\n",
      "Processing Record 22 of Set 6 |  sechura\n",
      "Processing Record 23 of Set 6 |  ponta delgada\n",
      "Processing Record 24 of Set 6 |  vila franca do campo\n",
      "Processing Record 25 of Set 6 |  nioro\n",
      "Processing Record 26 of Set 6 |  bianzhuang\n",
      "Processing Record 27 of Set 6 |  quatre cocos\n",
      "Processing Record 28 of Set 6 |  kununurra\n",
      "Processing Record 29 of Set 6 |  bahia honda\n",
      "Processing Record 30 of Set 6 |  progreso\n",
      "City not found. Skipping...\n",
      "Processing Record 31 of Set 6 |  cayenne\n",
      "Processing Record 32 of Set 6 |  nocupetaro\n",
      "City not found. Skipping...\n",
      "Processing Record 33 of Set 6 |  chabahar\n",
      "Processing Record 34 of Set 6 |  acarau\n",
      "Processing Record 35 of Set 6 |  mayo\n",
      "Processing Record 36 of Set 6 |  buala\n",
      "Processing Record 37 of Set 6 |  chongwe\n",
      "Processing Record 38 of Set 6 |  kimbe\n",
      "Processing Record 39 of Set 6 |  doha\n",
      "Processing Record 40 of Set 6 |  neiafu\n",
      "Processing Record 41 of Set 6 |  farafangana\n",
      "Processing Record 42 of Set 6 |  zambezi\n",
      "Processing Record 43 of Set 6 |  portland\n",
      "Processing Record 44 of Set 6 |  yulara\n",
      "Processing Record 45 of Set 6 |  kerema\n",
      "Processing Record 46 of Set 6 |  do gonbadan\n",
      "Processing Record 47 of Set 6 |  maniitsoq\n",
      "Processing Record 48 of Set 6 |  sitka\n",
      "Processing Record 49 of Set 6 |  trincomalee\n",
      "Processing Record 50 of Set 6 |  pilar do sul\n",
      "Processing Record 1 of Set 7 |  inuvik\n",
      "Processing Record 2 of Set 7 |  logrono\n",
      "Processing Record 3 of Set 7 |  port-gentil\n",
      "Processing Record 4 of Set 7 |  petropavlovsk-kamchatskiy\n",
      "Processing Record 5 of Set 7 |  victoria point\n",
      "Processing Record 6 of Set 7 |  college\n",
      "Processing Record 7 of Set 7 |  antofagasta\n",
      "Processing Record 8 of Set 7 |  pisco\n",
      "Processing Record 9 of Set 7 |  moose factory\n",
      "Processing Record 10 of Set 7 |  camocim\n",
      "Processing Record 11 of Set 7 |  almaty\n",
      "Processing Record 12 of Set 7 |  shizunai\n",
      "Processing Record 13 of Set 7 |  shaunavon\n",
      "Processing Record 14 of Set 7 |  scarborough\n",
      "Processing Record 15 of Set 7 |  ilsede\n",
      "Processing Record 16 of Set 7 |  conceicao do araguaia\n",
      "Processing Record 17 of Set 7 |  najran\n",
      "Processing Record 18 of Set 7 |  egvekinot\n",
      "Processing Record 19 of Set 7 |  manawar\n",
      "Processing Record 20 of Set 7 |  dubbo\n",
      "Processing Record 21 of Set 7 |  milkovo\n",
      "Processing Record 22 of Set 7 |  bardiyah\n",
      "Processing Record 23 of Set 7 |  coldingham\n",
      "Processing Record 24 of Set 7 |  castro\n",
      "Processing Record 25 of Set 7 |  aksarka\n",
      "City not found. Skipping...\n",
      "Processing Record 26 of Set 7 |  saiha\n",
      "Processing Record 27 of Set 7 |  marawi\n",
      "Processing Record 28 of Set 7 |  ximei\n",
      "Processing Record 29 of Set 7 |  praia\n",
      "Processing Record 30 of Set 7 |  rangapara\n",
      "Processing Record 31 of Set 7 |  kavieng\n",
      "Processing Record 32 of Set 7 |  lavrentiya\n",
      "Processing Record 33 of Set 7 |  sakakah\n",
      "Processing Record 34 of Set 7 |  aksha\n",
      "Processing Record 35 of Set 7 |  ilulissat\n",
      "Processing Record 36 of Set 7 |  padang\n",
      "Processing Record 37 of Set 7 |  oranjemund\n",
      "Processing Record 38 of Set 7 |  dvinskoy\n",
      "Processing Record 39 of Set 7 |  seoul\n",
      "Processing Record 40 of Set 7 |  salamiyah\n",
      "Processing Record 41 of Set 7 |  merauke\n",
      "Processing Record 42 of Set 7 |  bukoba\n",
      "Processing Record 43 of Set 7 |  creston\n",
      "Processing Record 44 of Set 7 |  porto novo\n",
      "Processing Record 45 of Set 7 |  kemijarvi\n",
      "Processing Record 46 of Set 7 |  ostersund\n",
      "Processing Record 47 of Set 7 |  verkhnevilyuysk\n",
      "Processing Record 48 of Set 7 |  alofi\n",
      "Processing Record 49 of Set 7 |  lakatoro\n",
      "Processing Record 50 of Set 7 |  zeya\n",
      "Processing Record 1 of Set 8 |  zheleznodorozhnyy\n",
      "Processing Record 2 of Set 8 |  tygda\n",
      "Processing Record 3 of Set 8 |  san rafael\n",
      "Processing Record 4 of Set 8 |  yushala\n",
      "Processing Record 5 of Set 8 |  norden\n",
      "Processing Record 6 of Set 8 |  general pico\n",
      "Processing Record 7 of Set 8 |  henties bay\n",
      "Processing Record 8 of Set 8 |  muisne\n",
      "Processing Record 9 of Set 8 |  corumba\n",
      "Processing Record 10 of Set 8 |  hambantota\n",
      "Processing Record 11 of Set 8 |  adre\n",
      "Processing Record 12 of Set 8 |  denizli\n",
      "Processing Record 13 of Set 8 |  opuwo\n",
      "Processing Record 14 of Set 8 |  klaksvik\n",
      "Processing Record 15 of Set 8 |  samarai\n",
      "Processing Record 16 of Set 8 |  nyurba\n",
      "Processing Record 17 of Set 8 |  manokwari\n",
      "Processing Record 18 of Set 8 |  ornskoldsvik\n"
     ]
    },
    {
     "name": "stdout",
     "output_type": "stream",
     "text": [
      "Processing Record 19 of Set 8 |  presidencia roque saenz pena\n",
      "Processing Record 20 of Set 8 |  ahuimanu\n",
      "Processing Record 21 of Set 8 |  lujan\n",
      "Processing Record 22 of Set 8 |  okhotsk\n",
      "Processing Record 23 of Set 8 |  anaconda\n",
      "Processing Record 24 of Set 8 |  cabo san lucas\n",
      "Processing Record 25 of Set 8 |  bandarbeyla\n",
      "Processing Record 26 of Set 8 |  paris\n",
      "Processing Record 27 of Set 8 |  sao joao da barra\n",
      "Processing Record 28 of Set 8 |  slonim\n",
      "Processing Record 29 of Set 8 |  ciudad bolivar\n",
      "Processing Record 30 of Set 8 |  barranca\n",
      "Processing Record 31 of Set 8 |  sinnamary\n",
      "Processing Record 32 of Set 8 |  hay river\n",
      "Processing Record 33 of Set 8 |  topolobampo\n",
      "Processing Record 34 of Set 8 |  ray\n",
      "Processing Record 35 of Set 8 |  vao\n",
      "Processing Record 36 of Set 8 |  sterling\n",
      "Processing Record 37 of Set 8 |  la ronge\n",
      "Processing Record 38 of Set 8 |  sirjan\n",
      "Processing Record 39 of Set 8 |  opelousas\n",
      "Processing Record 40 of Set 8 |  esil\n",
      "Processing Record 41 of Set 8 |  katherine\n",
      "Processing Record 42 of Set 8 |  kainantu\n",
      "Processing Record 43 of Set 8 |  xihe\n",
      "Processing Record 44 of Set 8 |  hofn\n",
      "Processing Record 45 of Set 8 |  berlevag\n",
      "Processing Record 46 of Set 8 |  basoko\n",
      "Processing Record 47 of Set 8 |  antalaha\n",
      "Processing Record 48 of Set 8 |  omboue\n",
      "Processing Record 49 of Set 8 |  tikhvin\n",
      "Processing Record 50 of Set 8 |  saint-augustin\n",
      "Processing Record 1 of Set 9 |  tucuman\n",
      "Processing Record 2 of Set 9 |  piacabucu\n",
      "Processing Record 3 of Set 9 |  srandakan\n",
      "Processing Record 4 of Set 9 |  languyan\n",
      "Processing Record 5 of Set 9 |  leningradskiy\n",
      "Processing Record 6 of Set 9 |  etchoropo\n",
      "Processing Record 7 of Set 9 |  den helder\n",
      "City not found. Skipping...\n",
      "Processing Record 8 of Set 9 |  vestmannaeyjar\n",
      "Processing Record 9 of Set 9 |  camacha\n",
      "Processing Record 10 of Set 9 |  nagapattinam\n",
      "Processing Record 11 of Set 9 |  puerto del rosario\n",
      "Processing Record 12 of Set 9 |  port blair\n",
      "Processing Record 13 of Set 9 |  gilgit\n",
      "Processing Record 14 of Set 9 |  gamba\n",
      "Processing Record 15 of Set 9 |  bud\n",
      "Processing Record 16 of Set 9 |  vostok\n",
      "Processing Record 17 of Set 9 |  bereda\n",
      "Processing Record 18 of Set 9 |  tual\n",
      "Processing Record 19 of Set 9 |  dhidhdhoo\n",
      "Processing Record 20 of Set 9 |  gazanjyk\n",
      "Processing Record 21 of Set 9 |  khilok\n",
      "Processing Record 22 of Set 9 |  tanggu\n",
      "City not found. Skipping...\n",
      "Processing Record 23 of Set 9 |  khandbari\n",
      "Processing Record 24 of Set 9 |  montemorelos\n",
      "Processing Record 25 of Set 9 |  diu\n",
      "Processing Record 26 of Set 9 |  synya\n",
      "City not found. Skipping...\n",
      "City not found. Skipping...\n",
      "Processing Record 27 of Set 9 |  kualakapuas\n",
      "Processing Record 28 of Set 9 |  alibag\n",
      "Processing Record 29 of Set 9 |  leshukonskoye\n",
      "Processing Record 30 of Set 9 |  poso\n",
      "Processing Record 31 of Set 9 |  boden\n",
      "Processing Record 32 of Set 9 |  pitimbu\n",
      "Processing Record 33 of Set 9 |  palmer\n",
      "Processing Record 34 of Set 9 |  lorengau\n",
      "Processing Record 35 of Set 9 |  mecca\n",
      "City not found. Skipping...\n",
      "Processing Record 36 of Set 9 |  teguise\n",
      "Processing Record 37 of Set 9 |  grand gaube\n",
      "City not found. Skipping...\n",
      "Processing Record 38 of Set 9 |  rio grande\n",
      "Processing Record 39 of Set 9 |  darhan\n",
      "Processing Record 40 of Set 9 |  lampa\n",
      "Processing Record 41 of Set 9 |  motygino\n",
      "Processing Record 42 of Set 9 |  isangel\n",
      "Processing Record 43 of Set 9 |  muros\n",
      "Processing Record 44 of Set 9 |  yurga\n",
      "Processing Record 45 of Set 9 |  baykit\n",
      "City not found. Skipping...\n",
      "Processing Record 46 of Set 9 |  ulladulla\n",
      "Processing Record 47 of Set 9 |  bulgan\n",
      "Processing Record 48 of Set 9 |  ati\n",
      "Processing Record 49 of Set 9 |  poum\n",
      "Processing Record 50 of Set 9 |  haines junction\n",
      "Processing Record 1 of Set 10 |  ancud\n",
      "Processing Record 2 of Set 10 |  faranah\n",
      "Processing Record 3 of Set 10 |  santa maria del oro\n",
      "Processing Record 4 of Set 10 |  san quintin\n",
      "Processing Record 5 of Set 10 |  dasoguz\n",
      "Processing Record 6 of Set 10 |  aripuana\n",
      "Processing Record 7 of Set 10 |  santa maria\n",
      "Processing Record 8 of Set 10 |  snyder\n",
      "Processing Record 9 of Set 10 |  constantine\n",
      "Processing Record 10 of Set 10 |  sibu\n",
      "Processing Record 11 of Set 10 |  fairbanks\n",
      "Processing Record 12 of Set 10 |  goderich\n",
      "Processing Record 13 of Set 10 |  vermilion\n",
      "Processing Record 14 of Set 10 |  kushikino\n",
      "Processing Record 15 of Set 10 |  ucluelet\n",
      "Processing Record 16 of Set 10 |  tomatlan\n",
      "Processing Record 17 of Set 10 |  riyadh\n",
      "Processing Record 18 of Set 10 |  komsomolskiy\n",
      "Processing Record 19 of Set 10 |  road town\n",
      "City not found. Skipping...\n",
      "Processing Record 20 of Set 10 |  tiznit\n",
      "Processing Record 21 of Set 10 |  laramie\n",
      "Processing Record 22 of Set 10 |  sokolo\n",
      "Processing Record 23 of Set 10 |  paita\n",
      "Processing Record 24 of Set 10 |  san policarpo\n",
      "Processing Record 25 of Set 10 |  cabinda\n",
      "Processing Record 26 of Set 10 |  stromness\n",
      "Processing Record 27 of Set 10 |  medea\n",
      "City not found. Skipping...\n",
      "Processing Record 28 of Set 10 |  pengcheng\n",
      "Processing Record 29 of Set 10 |  fukue\n",
      "Processing Record 30 of Set 10 |  shitanjing\n",
      "Processing Record 31 of Set 10 |  akureyri\n",
      "Processing Record 32 of Set 10 |  homer\n",
      "Processing Record 33 of Set 10 |  saint-joseph\n",
      "Processing Record 34 of Set 10 |  mandalgovi\n",
      "Processing Record 35 of Set 10 |  ibra\n",
      "Processing Record 36 of Set 10 |  muscatine\n",
      "Processing Record 37 of Set 10 |  merrill\n",
      "City not found. Skipping...\n",
      "Processing Record 38 of Set 10 |  halmstad\n",
      "Processing Record 39 of Set 10 |  abu samrah\n",
      "City not found. Skipping...\n",
      "City not found. Skipping...\n",
      "Processing Record 40 of Set 10 |  aksu\n",
      "Processing Record 41 of Set 10 |  curup\n",
      "Processing Record 42 of Set 10 |  gurupa\n",
      "Processing Record 43 of Set 10 |  oxapampa\n",
      "Processing Record 44 of Set 10 |  zhigansk\n",
      "Processing Record 45 of Set 10 |  antsohihy\n",
      "Processing Record 46 of Set 10 |  sobolevo\n",
      "City not found. Skipping...\n",
      "Processing Record 47 of Set 10 |  san juan\n",
      "City not found. Skipping...\n",
      "Processing Record 48 of Set 10 |  hami\n",
      "Processing Record 49 of Set 10 |  kotma\n",
      "Processing Record 50 of Set 10 |  hastings\n",
      "Processing Record 1 of Set 11 |  dire dawa\n",
      "Processing Record 2 of Set 11 |  ambalavao\n",
      "Processing Record 3 of Set 11 |  palafrugell\n",
      "Processing Record 4 of Set 11 |  dembi dolo\n",
      "Processing Record 5 of Set 11 |  la rioja\n",
      "Processing Record 6 of Set 11 |  tongliao\n",
      "Processing Record 7 of Set 11 |  kodinsk\n",
      "Processing Record 8 of Set 11 |  kuytun\n",
      "Processing Record 9 of Set 11 |  nanakuli\n",
      "Processing Record 10 of Set 11 |  yar-sale\n",
      "Processing Record 11 of Set 11 |  kutum\n",
      "Processing Record 12 of Set 11 |  gingoog\n",
      "Processing Record 13 of Set 11 |  talcahuano\n",
      "Processing Record 14 of Set 11 |  banda aceh\n",
      "Processing Record 15 of Set 11 |  kilindoni\n",
      "Processing Record 16 of Set 11 |  neryungri\n",
      "Processing Record 17 of Set 11 |  dovolnoye\n",
      "Processing Record 18 of Set 11 |  mestia\n",
      "Processing Record 19 of Set 11 |  eagle pass\n",
      "Processing Record 20 of Set 11 |  glenwood springs\n",
      "City not found. Skipping...\n",
      "Processing Record 21 of Set 11 |  igrim\n",
      "Processing Record 22 of Set 11 |  yeppoon\n",
      "City not found. Skipping...\n",
      "Processing Record 23 of Set 11 |  seydi\n",
      "Processing Record 24 of Set 11 |  carballo\n",
      "Processing Record 25 of Set 11 |  charters towers\n",
      "Processing Record 26 of Set 11 |  diavata\n",
      "Processing Record 27 of Set 11 |  lazaro cardenas\n",
      "Processing Record 28 of Set 11 |  ondjiva\n",
      "Processing Record 29 of Set 11 |  umm kaddadah\n",
      "Processing Record 30 of Set 11 |  forbes\n",
      "Processing Record 31 of Set 11 |  naze\n",
      "Processing Record 32 of Set 11 |  maralal\n",
      "Processing Record 33 of Set 11 |  djambala\n",
      "Processing Record 34 of Set 11 |  maragogi\n",
      "Processing Record 35 of Set 11 |  kamenka\n",
      "Processing Record 36 of Set 11 |  miami\n",
      "Processing Record 37 of Set 11 |  brawley\n",
      "City not found. Skipping...\n",
      "Processing Record 38 of Set 11 |  malatya\n",
      "Processing Record 39 of Set 11 |  finnsnes\n",
      "Processing Record 40 of Set 11 |  inta\n",
      "Processing Record 41 of Set 11 |  tismana\n",
      "Processing Record 42 of Set 11 |  kirakira\n",
      "Processing Record 43 of Set 11 |  baiyin\n",
      "Processing Record 44 of Set 11 |  zinder\n",
      "Processing Record 45 of Set 11 |  varberg\n",
      "City not found. Skipping...\n",
      "City not found. Skipping...\n",
      "Processing Record 46 of Set 11 |  altay\n",
      "Processing Record 47 of Set 11 |  angoram\n",
      "Processing Record 48 of Set 11 |  coite do noia\n",
      "Processing Record 49 of Set 11 |  namatanai\n"
     ]
    },
    {
     "name": "stdout",
     "output_type": "stream",
     "text": [
      "Processing Record 50 of Set 11 |  bairiki\n",
      "City not found. Skipping...\n",
      "City not found. Skipping...\n",
      "Processing Record 1 of Set 12 |  gedo\n",
      "Processing Record 2 of Set 12 |  kuching\n",
      "Processing Record 3 of Set 12 |  jiamusi\n",
      "Processing Record 4 of Set 12 |  esperance\n",
      "Processing Record 5 of Set 12 |  ugoofaaru\n",
      "Processing Record 6 of Set 12 |  pavlodar\n",
      "Processing Record 7 of Set 12 |  kuchinarai\n",
      "Processing Record 8 of Set 12 |  kelo\n",
      "City not found. Skipping...\n",
      "Processing Record 9 of Set 12 |  kamiiso\n",
      "Processing Record 10 of Set 12 |  mackenzie\n",
      "Processing Record 11 of Set 12 |  bilibino\n",
      "Processing Record 12 of Set 12 |  daru\n",
      "Processing Record 13 of Set 12 |  iquitos\n",
      "Processing Record 14 of Set 12 |  tara\n",
      "Processing Record 15 of Set 12 |  yaan\n",
      "------------------------- \n",
      "Data Retrieval Complete \n",
      "-------------------------\n"
     ]
    }
   ],
   "source": [
    "# counter to count the number of calls to API\n",
    "count = 1\n",
    " # counter to count the number of call sets\n",
    "sets = 1\n",
    "\n",
    "print(\"Beginning Data Retrieval \\n -------------------------\")\n",
    "for city in cities:\n",
    "    \n",
    "    try:\n",
    "        response = requests.get(f\"{query_url}&q={city}\").json() \n",
    "        city_name.append(response[\"name\"])\n",
    "        cloudiness.append(response[\"clouds\"][\"all\"])\n",
    "        country.append(response[\"sys\"][\"country\"])\n",
    "        date.append(response[\"dt\"])\n",
    "        humidity.append(response[\"main\"][\"humidity\"])\n",
    "        max_temp.append(response[\"main\"][\"temp_max\"])\n",
    "        lat.append(response[\"coord\"][\"lat\"])\n",
    "        lng.append(response[\"coord\"][\"lon\"])\n",
    "        wind_speed.append(response[\"wind\"][\"speed\"])\n",
    "        city_record = response[\"name\"]\n",
    "        print(f\"Processing Record {count} of Set {sets} |  {city}\")\n",
    "        count = count+1\n",
    "        time.sleep(1.01)\n",
    "    except:\n",
    "        print(\"City not found. Skipping...\")\n",
    "    \n",
    "    # loop to limit 50 API calls per minute. The OpenWeatherMap API limit is 60 calls/min\n",
    "    if count == 51: \n",
    "        count = 1 \n",
    "        sets = sets+1\n",
    "\n",
    "print(\"------------------------- \\nData Retrieval Complete \\n-------------------------\")"
   ]
  },
  {
   "cell_type": "markdown",
   "metadata": {},
   "source": [
    "### Convert Raw Data to DataFrame\n",
    "* Export the city data into a .csv.\n",
    "* Display the DataFrame"
   ]
  },
  {
   "cell_type": "code",
   "execution_count": 6,
   "metadata": {},
   "outputs": [
    {
     "data": {
      "text/plain": [
       "City          565\n",
       "Cloudiness    565\n",
       "Country       565\n",
       "Date          565\n",
       "Humidity      565\n",
       "Lat           565\n",
       "Lng           565\n",
       "Max Temp      565\n",
       "Wind Speed    565\n",
       "dtype: int64"
      ]
     },
     "execution_count": 6,
     "metadata": {},
     "output_type": "execute_result"
    }
   ],
   "source": [
    "weather_df = pd.DataFrame({\n",
    "     'City':city_name,\n",
    "     'Cloudiness':cloudiness,\n",
    "     'Country':country,\n",
    "     'Date':date,\n",
    "     'Humidity':humidity,\n",
    "     'Lat':lat,\n",
    "     'Lng':lng,\n",
    "     'Max Temp':max_temp,\n",
    "     'Wind Speed':wind_speed,\n",
    "     })\n",
    "weather_df.count()"
   ]
  },
  {
   "cell_type": "code",
   "execution_count": 7,
   "metadata": {},
   "outputs": [],
   "source": [
    "# Export the city data into a .csv.\n",
    "weather_df.to_csv('../output_data/weatheroutput.csv')"
   ]
  },
  {
   "cell_type": "code",
   "execution_count": 8,
   "metadata": {},
   "outputs": [
    {
     "data": {
      "text/html": [
       "<div>\n",
       "<style scoped>\n",
       "    .dataframe tbody tr th:only-of-type {\n",
       "        vertical-align: middle;\n",
       "    }\n",
       "\n",
       "    .dataframe tbody tr th {\n",
       "        vertical-align: top;\n",
       "    }\n",
       "\n",
       "    .dataframe thead th {\n",
       "        text-align: right;\n",
       "    }\n",
       "</style>\n",
       "<table border=\"1\" class=\"dataframe\">\n",
       "  <thead>\n",
       "    <tr style=\"text-align: right;\">\n",
       "      <th></th>\n",
       "      <th>City</th>\n",
       "      <th>Cloudiness</th>\n",
       "      <th>Country</th>\n",
       "      <th>Date</th>\n",
       "      <th>Humidity</th>\n",
       "      <th>Lat</th>\n",
       "      <th>Lng</th>\n",
       "      <th>Max Temp</th>\n",
       "      <th>Wind Speed</th>\n",
       "    </tr>\n",
       "  </thead>\n",
       "  <tbody>\n",
       "    <tr>\n",
       "      <td>0</td>\n",
       "      <td>Ushuaia</td>\n",
       "      <td>40</td>\n",
       "      <td>AR</td>\n",
       "      <td>1584327864</td>\n",
       "      <td>71</td>\n",
       "      <td>-54.80</td>\n",
       "      <td>-68.30</td>\n",
       "      <td>53.60</td>\n",
       "      <td>5.82</td>\n",
       "    </tr>\n",
       "    <tr>\n",
       "      <td>1</td>\n",
       "      <td>Mataura</td>\n",
       "      <td>97</td>\n",
       "      <td>NZ</td>\n",
       "      <td>1584327865</td>\n",
       "      <td>68</td>\n",
       "      <td>-46.19</td>\n",
       "      <td>168.86</td>\n",
       "      <td>55.00</td>\n",
       "      <td>14.00</td>\n",
       "    </tr>\n",
       "    <tr>\n",
       "      <td>2</td>\n",
       "      <td>Kloulklubed</td>\n",
       "      <td>100</td>\n",
       "      <td>PW</td>\n",
       "      <td>1584327867</td>\n",
       "      <td>77</td>\n",
       "      <td>7.04</td>\n",
       "      <td>134.26</td>\n",
       "      <td>81.84</td>\n",
       "      <td>14.88</td>\n",
       "    </tr>\n",
       "    <tr>\n",
       "      <td>3</td>\n",
       "      <td>Port Hardy</td>\n",
       "      <td>5</td>\n",
       "      <td>CA</td>\n",
       "      <td>1584327868</td>\n",
       "      <td>48</td>\n",
       "      <td>50.70</td>\n",
       "      <td>-127.42</td>\n",
       "      <td>41.00</td>\n",
       "      <td>4.70</td>\n",
       "    </tr>\n",
       "    <tr>\n",
       "      <td>4</td>\n",
       "      <td>Qaanaaq</td>\n",
       "      <td>100</td>\n",
       "      <td>GL</td>\n",
       "      <td>1584327869</td>\n",
       "      <td>51</td>\n",
       "      <td>77.48</td>\n",
       "      <td>-69.36</td>\n",
       "      <td>-2.33</td>\n",
       "      <td>6.87</td>\n",
       "    </tr>\n",
       "  </tbody>\n",
       "</table>\n",
       "</div>"
      ],
      "text/plain": [
       "          City  Cloudiness Country        Date  Humidity    Lat     Lng  \\\n",
       "0      Ushuaia          40      AR  1584327864        71 -54.80  -68.30   \n",
       "1      Mataura          97      NZ  1584327865        68 -46.19  168.86   \n",
       "2  Kloulklubed         100      PW  1584327867        77   7.04  134.26   \n",
       "3   Port Hardy           5      CA  1584327868        48  50.70 -127.42   \n",
       "4      Qaanaaq         100      GL  1584327869        51  77.48  -69.36   \n",
       "\n",
       "   Max Temp  Wind Speed  \n",
       "0     53.60        5.82  \n",
       "1     55.00       14.00  \n",
       "2     81.84       14.88  \n",
       "3     41.00        4.70  \n",
       "4     -2.33        6.87  "
      ]
     },
     "execution_count": 8,
     "metadata": {},
     "output_type": "execute_result"
    }
   ],
   "source": [
    "weather_df.head()"
   ]
  },
  {
   "cell_type": "markdown",
   "metadata": {},
   "source": [
    "### Plotting the Data\n",
    "* Use proper labeling of the plots using plot titles (including date of analysis) and axes labels.\n",
    "* Save the plotted figures as .pngs."
   ]
  },
  {
   "cell_type": "markdown",
   "metadata": {},
   "source": [
    "#### Latitude vs. Temperature Plot"
   ]
  },
  {
   "cell_type": "code",
   "execution_count": 24,
   "metadata": {
    "scrolled": true
   },
   "outputs": [
    {
     "data": {
      "image/png": "[encoded data removed]",
      "text/plain": [
       "<Figure size 432x288 with 1 Axes>"
      ]
     },
     "metadata": {
      "needs_background": "light"
     },
     "output_type": "display_data"
    },
    {
     "data": {
      "text/plain": [
       "<Figure size 432x288 with 0 Axes>"
      ]
     },
     "metadata": {},
     "output_type": "display_data"
    }
   ],
   "source": [
    "# Create a Scatter Plot for temperature vs latitude\n",
    "x_values = weather_df['Lat']\n",
    "y_values = weather_df['Max Temp']\n",
    "plt.scatter(x_values,y_values)\n",
    "plt.xlabel('Latitude')\n",
    "plt.ylabel('Temperature (F)')\n",
    "plt.title(\"City Latitude vs Temperature (F) 3/15/20\")\n",
    "plt.grid()\n",
    "plt.show()\n",
    "\n",
    "# Save Figure\n",
    "plt.savefig(\"../output_data/Fig1\")"
   ]
  },
  {
   "cell_type": "markdown",
   "metadata": {},
   "source": [
    "This Scatter Plot shows the closer the city is to the equator, the higher the temperature.\n",
    "The Southern Hemisphere appears to have higher temperatures than the Northern Hemisphere."
   ]
  },
  {
   "cell_type": "markdown",
   "metadata": {},
   "source": [
    "#### Latitude vs. Humidity Plot"
   ]
  },
  {
   "cell_type": "code",
   "execution_count": 25,
   "metadata": {},
   "outputs": [
    {
     "data": {
      "image/png": "[encoded data removed]",
      "text/plain": [
       "<Figure size 432x288 with 1 Axes>"
      ]
     },
     "metadata": {
      "needs_background": "light"
     },
     "output_type": "display_data"
    },
    {
     "data": {
      "text/plain": [
       "<Figure size 432x288 with 0 Axes>"
      ]
     },
     "metadata": {},
     "output_type": "display_data"
    }
   ],
   "source": [
    "# Create a Scatter Plot for humidity vs latitude\n",
    "x_values = weather_df['Lat']\n",
    "y_values = weather_df['Humidity']\n",
    "plt.scatter(x_values,y_values)\n",
    "plt.xlabel('Latitude')\n",
    "plt.ylabel('Humidity (%)')\n",
    "plt.xlim(-60,80)\n",
    "plt.ylim(0,300)\n",
    "plt.title(\"City Latitude vs Humidity (3/15/20)\")\n",
    "plt.grid()\n",
    "plt.show()\n",
    "\n",
    "# Save Figure\n",
    "plt.savefig(\"../output_data/Fig2\")"
   ]
  },
  {
   "cell_type": "markdown",
   "metadata": {},
   "source": [
    "According to the scatter plot, Humidity % is spread out evenly across latitude. "
   ]
  },
  {
   "cell_type": "markdown",
   "metadata": {},
   "source": [
    "#### Latitude vs. Cloudiness Plot"
   ]
  },
  {
   "cell_type": "code",
   "execution_count": 26,
   "metadata": {},
   "outputs": [
    {
     "data": {
      "image/png": "[encoded data removed]",
      "text/plain": [
       "<Figure size 432x288 with 1 Axes>"
      ]
     },
     "metadata": {
      "needs_background": "light"
     },
     "output_type": "display_data"
    },
    {
     "data": {
      "text/plain": [
       "<Figure size 432x288 with 0 Axes>"
      ]
     },
     "metadata": {},
     "output_type": "display_data"
    }
   ],
   "source": [
    "# Create a Scatter Plot for cloudiness vs latitude\n",
    "x_values = weather_df['Lat']\n",
    "y_values = weather_df['Cloudiness']\n",
    "plt.scatter(x_values,y_values)\n",
    "plt.xlabel('Latitude')\n",
    "plt.ylabel('Cloudiness')\n",
    "plt.xlim(-60,80)\n",
    "plt.ylim(0,140)\n",
    "plt.title(\"City Latitude vs Cloudiness (3/15/20)\")\n",
    "plt.grid()\n",
    "plt.show()\n",
    "\n",
    "# Save Figure\n",
    "plt.savefig(\"../output_data/Fig3\")"
   ]
  },
  {
   "cell_type": "markdown",
   "metadata": {},
   "source": [
    "There deos not appear to be any correlation between City Latitude and Cloudiness. "
   ]
  },
  {
   "cell_type": "markdown",
   "metadata": {},
   "source": [
    "#### Latitude vs. Wind Speed Plot"
   ]
  },
  {
   "cell_type": "code",
   "execution_count": 27,
   "metadata": {},
   "outputs": [
    {
     "data": {
      "image/png": "[encoded data removed]",
      "text/plain": [
       "<Figure size 432x288 with 1 Axes>"
      ]
     },
     "metadata": {
      "needs_background": "light"
     },
     "output_type": "display_data"
    },
    {
     "data": {
      "text/plain": [
       "<Figure size 432x288 with 0 Axes>"
      ]
     },
     "metadata": {},
     "output_type": "display_data"
    }
   ],
   "source": [
    "# Create a Scatter Plot for wind speed vs latitude\n",
    "x_values = weather_df['Lat']\n",
    "y_values = weather_df['Wind Speed']\n",
    "plt.scatter(x_values,y_values)\n",
    "plt.xlabel('Latitude')\n",
    "plt.ylabel('Wind Speed')\n",
    "plt.xlim(-60,80)\n",
    "plt.ylim(0,50)\n",
    "plt.title(\"City Latitude vs Wind Speed (3/15/20)\")\n",
    "plt.grid()\n",
    "plt.show()\n",
    "\n",
    "# Save Figure\n",
    "plt.savefig(\"../output_data/Fig4\")"
   ]
  },
  {
   "cell_type": "markdown",
   "metadata": {},
   "source": [
    "Wind Speed is pretty even throughout the various cities across latitudes. There does not seem to be any correlation between city latitude and wind speed. "
   ]
  },
  {
   "cell_type": "markdown",
   "metadata": {},
   "source": [
    "## Linear Regression"
   ]
  },
  {
   "cell_type": "code",
   "execution_count": null,
   "metadata": {},
   "outputs": [],
   "source": [
    "# OPTIONAL: Create a function to create Linear Regression plots\n"
   ]
  },
  {
   "cell_type": "code",
   "execution_count": 15,
   "metadata": {},
   "outputs": [
    {
     "data": {
      "text/html": [
       "<div>\n",
       "<style scoped>\n",
       "    .dataframe tbody tr th:only-of-type {\n",
       "        vertical-align: middle;\n",
       "    }\n",
       "\n",
       "    .dataframe tbody tr th {\n",
       "        vertical-align: top;\n",
       "    }\n",
       "\n",
       "    .dataframe thead th {\n",
       "        text-align: right;\n",
       "    }\n",
       "</style>\n",
       "<table border=\"1\" class=\"dataframe\">\n",
       "  <thead>\n",
       "    <tr style=\"text-align: right;\">\n",
       "      <th></th>\n",
       "      <th>City</th>\n",
       "      <th>Cloudiness</th>\n",
       "      <th>Country</th>\n",
       "      <th>Date</th>\n",
       "      <th>Humidity</th>\n",
       "      <th>Lat</th>\n",
       "      <th>Lng</th>\n",
       "      <th>Max Temp</th>\n",
       "      <th>Wind Speed</th>\n",
       "    </tr>\n",
       "  </thead>\n",
       "  <tbody>\n",
       "    <tr>\n",
       "      <td>2</td>\n",
       "      <td>Kloulklubed</td>\n",
       "      <td>100</td>\n",
       "      <td>PW</td>\n",
       "      <td>1584327867</td>\n",
       "      <td>77</td>\n",
       "      <td>7.04</td>\n",
       "      <td>134.26</td>\n",
       "      <td>81.84</td>\n",
       "      <td>14.88</td>\n",
       "    </tr>\n",
       "    <tr>\n",
       "      <td>3</td>\n",
       "      <td>Port Hardy</td>\n",
       "      <td>5</td>\n",
       "      <td>CA</td>\n",
       "      <td>1584327868</td>\n",
       "      <td>48</td>\n",
       "      <td>50.70</td>\n",
       "      <td>-127.42</td>\n",
       "      <td>41.00</td>\n",
       "      <td>4.70</td>\n",
       "    </tr>\n",
       "    <tr>\n",
       "      <td>4</td>\n",
       "      <td>Qaanaaq</td>\n",
       "      <td>100</td>\n",
       "      <td>GL</td>\n",
       "      <td>1584327869</td>\n",
       "      <td>51</td>\n",
       "      <td>77.48</td>\n",
       "      <td>-69.36</td>\n",
       "      <td>-2.33</td>\n",
       "      <td>6.87</td>\n",
       "    </tr>\n",
       "    <tr>\n",
       "      <td>5</td>\n",
       "      <td>Cherskiy</td>\n",
       "      <td>94</td>\n",
       "      <td>RU</td>\n",
       "      <td>1584327870</td>\n",
       "      <td>85</td>\n",
       "      <td>68.75</td>\n",
       "      <td>161.30</td>\n",
       "      <td>8.53</td>\n",
       "      <td>6.58</td>\n",
       "    </tr>\n",
       "    <tr>\n",
       "      <td>7</td>\n",
       "      <td>Tokur</td>\n",
       "      <td>100</td>\n",
       "      <td>RU</td>\n",
       "      <td>1584327873</td>\n",
       "      <td>84</td>\n",
       "      <td>53.13</td>\n",
       "      <td>132.90</td>\n",
       "      <td>13.39</td>\n",
       "      <td>4.74</td>\n",
       "    </tr>\n",
       "  </tbody>\n",
       "</table>\n",
       "</div>"
      ],
      "text/plain": [
       "          City  Cloudiness Country        Date  Humidity    Lat     Lng  \\\n",
       "2  Kloulklubed         100      PW  1584327867        77   7.04  134.26   \n",
       "3   Port Hardy           5      CA  1584327868        48  50.70 -127.42   \n",
       "4      Qaanaaq         100      GL  1584327869        51  77.48  -69.36   \n",
       "5     Cherskiy          94      RU  1584327870        85  68.75  161.30   \n",
       "7        Tokur         100      RU  1584327873        84  53.13  132.90   \n",
       "\n",
       "   Max Temp  Wind Speed  \n",
       "2     81.84       14.88  \n",
       "3     41.00        4.70  \n",
       "4     -2.33        6.87  \n",
       "5      8.53        6.58  \n",
       "7     13.39        4.74  "
      ]
     },
     "execution_count": 15,
     "metadata": {},
     "output_type": "execute_result"
    }
   ],
   "source": [
    "# Create Northern and Southern Hemisphere DataFrames\n",
    "northern_hemisphere = weather_df.loc[weather_df[\"Lat\"]>0.01]\n",
    "southern_hemisphere = weather_df.loc[weather_df[\"Lat\"]<-0.01]\n",
    "\n",
    "northern_hemisphere.head()\n",
    "# southern_hemisphere.head()"
   ]
  },
  {
   "cell_type": "markdown",
   "metadata": {},
   "source": [
    "####  Northern Hemisphere - Max Temp vs. Latitude Linear Regression"
   ]
  },
  {
   "cell_type": "code",
   "execution_count": 16,
   "metadata": {},
   "outputs": [
    {
     "name": "stdout",
     "output_type": "stream",
     "text": [
      "R squard: -0.8964962942012237\n"
     ]
    },
    {
     "data": {
      "image/png": "[encoded data removed]",
      "text/plain": [
       "<Figure size 432x288 with 1 Axes>"
      ]
     },
     "metadata": {
      "needs_background": "light"
     },
     "output_type": "display_data"
    }
   ],
   "source": [
    "## Convert to floats and store Max Temp and Latitude as x and y values\n",
    "x_values = northern_hemisphere['Lat'].astype('float')\n",
    "y_values = northern_hemisphere['Max Temp'].astype('float')\n",
    "\n",
    "# Run linear regression\n",
    "(slope, intercept, rvalue, pvalue, stderr) = linregress(x_values, y_values)\n",
    "regress_values = x_values * slope + intercept\n",
    "line_eq = \"y = \" + str(round(slope,2)) + \"x + \" + str(round(intercept,2))\n",
    "\n",
    "# Plot scatter plot\n",
    "plt.scatter(x_values,y_values)\n",
    "\n",
    "# Plot regression line\n",
    "plt.plot(x_values,regress_values,\"r-\")\n",
    "plt.annotate(line_eq,(10,0),fontsize=15,color=\"red\")\n",
    "\n",
    "# Label plot\n",
    "plt.xlabel('Latitude')\n",
    "plt.ylabel('Temperature (F)')\n",
    "plt.title('Northern Hemisphere - Max Temp vs. Latitude')\n",
    "\n",
    "# Print r square value\n",
    "print(f\"R squard: {rvalue}\")\n",
    "\n",
    "# Show plot\n",
    "plt.show()"
   ]
  },
  {
   "cell_type": "markdown",
   "metadata": {},
   "source": [
    "There is a very strong correlation (R-square of -0.896) between Temp and Latitude in the Northern Hemisphere. \n",
    "The closer the city to the equator, the higher the temperature."
   ]
  },
  {
   "cell_type": "markdown",
   "metadata": {},
   "source": [
    "####  Southern Hemisphere - Max Temp vs. Latitude Linear Regression"
   ]
  },
  {
   "cell_type": "code",
   "execution_count": 17,
   "metadata": {},
   "outputs": [
    {
     "name": "stdout",
     "output_type": "stream",
     "text": [
      "R squard: 0.6107586485621985\n"
     ]
    },
    {
     "data": {
      "image/png": "[encoded data removed]",
      "text/plain": [
       "<Figure size 432x288 with 1 Axes>"
      ]
     },
     "metadata": {
      "needs_background": "light"
     },
     "output_type": "display_data"
    }
   ],
   "source": [
    "## Convert to floats and store Max Temp and Latitude as x and y values\n",
    "x_values = southern_hemisphere['Lat'].astype('float')\n",
    "y_values = southern_hemisphere['Max Temp'].astype('float')\n",
    "\n",
    "# Run linear regression\n",
    "(slope, intercept, rvalue, pvalue, stderr) = linregress(x_values, y_values)\n",
    "regress_values = x_values * slope + intercept\n",
    "line_eq = \"y = \" + str(round(slope,2)) + \"x + \" + str(round(intercept,2))\n",
    "\n",
    "# Plot scatter plot\n",
    "plt.scatter(x_values,y_values)\n",
    "\n",
    "# Plot regression line\n",
    "plt.plot(x_values,regress_values,\"r-\")\n",
    "plt.annotate(line_eq,(-30,55),fontsize=15,color=\"red\")\n",
    "\n",
    "# Label plot\n",
    "plt.xlabel('Latitude')\n",
    "plt.ylabel('Temperature (F)')\n",
    "plt.title('Southern Hemisphere - Max Temp vs. Latitude')\n",
    "\n",
    "# Print r square value\n",
    "print(f\"R squard: {rvalue}\")\n",
    "\n",
    "# Show plot\n",
    "plt.show()"
   ]
  },
  {
   "cell_type": "markdown",
   "metadata": {},
   "source": [
    "There is a strong correlation (R-squared of 0.61) between temperature and city latitude in the Southern Hemisphere. \n",
    "The closer the city to the equator, the higher the temperature."
   ]
  },
  {
   "cell_type": "markdown",
   "metadata": {},
   "source": [
    "####  Northern Hemisphere - Humidity (%) vs. Latitude Linear Regression"
   ]
  },
  {
   "cell_type": "code",
   "execution_count": 18,
   "metadata": {},
   "outputs": [
    {
     "name": "stdout",
     "output_type": "stream",
     "text": [
      "R squard: 0.2670107849937739\n"
     ]
    },
    {
     "data": {
      "image/png": "[encoded data removed]",
      "text/plain": [
       "<Figure size 432x288 with 1 Axes>"
      ]
     },
     "metadata": {
      "needs_background": "light"
     },
     "output_type": "display_data"
    }
   ],
   "source": [
    "## Convert to floats and store Humidity and Latitude as x and y values\n",
    "x_values = northern_hemisphere['Lat'].astype('float')\n",
    "y_values = northern_hemisphere['Humidity'].astype('float')\n",
    "\n",
    "# Run linear regression\n",
    "(slope, intercept, rvalue, pvalue, stderr) = linregress(x_values, y_values)\n",
    "regress_values = x_values * slope + intercept\n",
    "line_eq = \"y = \" + str(round(slope,2)) + \"x + \" + str(round(intercept,2))\n",
    "\n",
    "# Plot scatter plot\n",
    "plt.scatter(x_values,y_values)\n",
    "\n",
    "# Plot regression line\n",
    "plt.plot(x_values,regress_values,\"r-\")\n",
    "plt.annotate(line_eq,(45,28),fontsize=15,color=\"red\")\n",
    "\n",
    "# Label plot\n",
    "plt.xlabel('Latitude')\n",
    "plt.ylabel('Humidity (%)')\n",
    "plt.title('Northern Hemisphere - Humidity (%) vs. Latitude')\n",
    "\n",
    "# Print r square value\n",
    "print(f\"R squard: {rvalue}\")\n",
    "\n",
    "# Show plot\n",
    "plt.show()"
   ]
  },
  {
   "cell_type": "markdown",
   "metadata": {},
   "source": [
    "There is a weak correlation (R-squared of 0.267) between Humidity % and City Latitude in the Northern Hemisphere."
   ]
  },
  {
   "cell_type": "markdown",
   "metadata": {},
   "source": [
    "####  Southern Hemisphere - Humidity (%) vs. Latitude Linear Regression"
   ]
  },
  {
   "cell_type": "code",
   "execution_count": 19,
   "metadata": {},
   "outputs": [
    {
     "name": "stdout",
     "output_type": "stream",
     "text": [
      "R squard: 0.20005933183838984\n"
     ]
    },
    {
     "data": {
      "image/png": "[encoded data removed]",
      "text/plain": [
       "<Figure size 432x288 with 1 Axes>"
      ]
     },
     "metadata": {
      "needs_background": "light"
     },
     "output_type": "display_data"
    }
   ],
   "source": [
    "## Convert to floats and store Humidity and Latitude as x and y values\n",
    "x_values = southern_hemisphere['Lat'].astype('float')\n",
    "y_values = southern_hemisphere['Humidity'].astype('float')\n",
    "\n",
    "# Run linear regression\n",
    "(slope, intercept, rvalue, pvalue, stderr) = linregress(x_values, y_values)\n",
    "regress_values = x_values * slope + intercept\n",
    "line_eq = \"y = \" + str(round(slope,2)) + \"x + \" + str(round(intercept,2))\n",
    "\n",
    "# Plot scatter plot\n",
    "plt.scatter(x_values,y_values)\n",
    "\n",
    "# Plot regression line\n",
    "plt.plot(x_values,regress_values,\"r-\")\n",
    "plt.annotate(line_eq,(-45,20),fontsize=15,color=\"red\")\n",
    "\n",
    "# Label plot\n",
    "plt.xlabel('Latitude')\n",
    "plt.ylabel('Humidity (%)')\n",
    "plt.title('Southern Hemisphere - Humidity (%) vs. Latitude')\n",
    "\n",
    "# Print r square value\n",
    "print(f\"R squard: {rvalue}\")\n",
    "\n",
    "# Show plot\n",
    "plt.show()"
   ]
  },
  {
   "cell_type": "markdown",
   "metadata": {},
   "source": [
    "There is a weak correlation (R-squared of 0.20) between Humidity % and City Latitude in the Southern Hemisphere."
   ]
  },
  {
   "cell_type": "markdown",
   "metadata": {},
   "source": [
    "####  Northern Hemisphere - Cloudiness (%) vs. Latitude Linear Regression"
   ]
  },
  {
   "cell_type": "code",
   "execution_count": 20,
   "metadata": {},
   "outputs": [
    {
     "name": "stdout",
     "output_type": "stream",
     "text": [
      "R squard: 0.13554702261860432\n"
     ]
    },
    {
     "data": {
      "image/png": "[encoded data removed]",
      "text/plain": [
       "<Figure size 432x288 with 1 Axes>"
      ]
     },
     "metadata": {
      "needs_background": "light"
     },
     "output_type": "display_data"
    }
   ],
   "source": [
    "## Convert to floats and store Cloudiness and Latitude as x and y values\n",
    "x_values = northern_hemisphere['Lat'].astype('float')\n",
    "y_values = northern_hemisphere['Cloudiness'].astype('float')\n",
    "\n",
    "# Run linear regression\n",
    "(slope, intercept, rvalue, pvalue, stderr) = linregress(x_values, y_values)\n",
    "regress_values = x_values * slope + intercept\n",
    "line_eq = \"y = \" + str(round(slope,2)) + \"x + \" + str(round(intercept,2))\n",
    "\n",
    "# Plot scatter plot\n",
    "plt.scatter(x_values,y_values)\n",
    "\n",
    "# Plot regression line\n",
    "plt.plot(x_values,regress_values,\"r-\")\n",
    "plt.annotate(line_eq,(45,28),fontsize=15,color=\"red\")\n",
    "\n",
    "# Label plot\n",
    "plt.xlabel('Latitude')\n",
    "plt.ylabel('Humidity (%)')\n",
    "plt.title('Northern Hemisphere - Cloudiness (%) vs. Latitude')\n",
    "\n",
    "# Print r square value\n",
    "print(f\"R squard: {rvalue}\")\n",
    "\n",
    "# Show plot\n",
    "plt.show()"
   ]
  },
  {
   "cell_type": "markdown",
   "metadata": {},
   "source": [
    "There is a very weak correlation (R-squared of 0.136) between Cloudiness % and City Latitude in the Northern Hemisphere."
   ]
  },
  {
   "cell_type": "markdown",
   "metadata": {},
   "source": [
    "####  Southern Hemisphere - Cloudiness (%) vs. Latitude Linear Regression"
   ]
  },
  {
   "cell_type": "code",
   "execution_count": 21,
   "metadata": {},
   "outputs": [
    {
     "name": "stdout",
     "output_type": "stream",
     "text": [
      "R squard: 0.2585524610617003\n"
     ]
    },
    {
     "data": {
      "image/png": "[encoded data removed]",
      "text/plain": [
       "<Figure size 432x288 with 1 Axes>"
      ]
     },
     "metadata": {
      "needs_background": "light"
     },
     "output_type": "display_data"
    }
   ],
   "source": [
    "## Convert to floats and store Cloudiness and Latitude as x and y values\n",
    "x_values = southern_hemisphere['Lat'].astype('float')\n",
    "y_values = southern_hemisphere['Cloudiness'].astype('float')\n",
    "\n",
    "# Run linear regression\n",
    "(slope, intercept, rvalue, pvalue, stderr) = linregress(x_values, y_values)\n",
    "regress_values = x_values * slope + intercept\n",
    "line_eq = \"y = \" + str(round(slope,2)) + \"x + \" + str(round(intercept,2))\n",
    "\n",
    "# Plot scatter plot\n",
    "plt.scatter(x_values,y_values)\n",
    "\n",
    "# Plot regression line\n",
    "plt.plot(x_values,regress_values,\"r-\")\n",
    "plt.annotate(line_eq,(-45,28),fontsize=15,color=\"red\")\n",
    "\n",
    "# Label plot\n",
    "plt.xlabel('Latitude')\n",
    "plt.ylabel('Humidity (%)')\n",
    "plt.title('Southern Hemisphere - Cloudiness (%) vs. Latitude')\n",
    "\n",
    "# Print r square value\n",
    "print(f\"R squard: {rvalue}\")\n",
    "\n",
    "# Show plot\n",
    "plt.show()"
   ]
  },
  {
   "cell_type": "markdown",
   "metadata": {},
   "source": [
    "There is a weak correlation (R-squared of 0.259) between Cloudiness % and City Latitude in the Southern Hemisphere."
   ]
  },
  {
   "cell_type": "markdown",
   "metadata": {},
   "source": [
    "####  Northern Hemisphere - Wind Speed (mph) vs. Latitude Linear Regression"
   ]
  },
  {
   "cell_type": "code",
   "execution_count": 22,
   "metadata": {},
   "outputs": [
    {
     "name": "stdout",
     "output_type": "stream",
     "text": [
      "R squard: 0.16759076762434133\n"
     ]
    },
    {
     "data": {
      "image/png": "[encoded data removed]",
      "text/plain": [
       "<Figure size 432x288 with 1 Axes>"
      ]
     },
     "metadata": {
      "needs_background": "light"
     },
     "output_type": "display_data"
    }
   ],
   "source": [
    "## Convert to floats and store Wind Speed and Latitude as x and y values\n",
    "x_values = northern_hemisphere['Lat'].astype('float')\n",
    "y_values = northern_hemisphere['Wind Speed'].astype('float')\n",
    "\n",
    "# Run linear regression\n",
    "(slope, intercept, rvalue, pvalue, stderr) = linregress(x_values, y_values)\n",
    "regress_values = x_values * slope + intercept\n",
    "line_eq = \"y = \" + str(round(slope,2)) + \"x + \" + str(round(intercept,2))\n",
    "\n",
    "# Plot scatter plot\n",
    "plt.scatter(x_values,y_values)\n",
    "\n",
    "# Plot regression line\n",
    "plt.plot(x_values,regress_values,\"r-\")\n",
    "plt.annotate(line_eq,(45,28),fontsize=15,color=\"red\")\n",
    "\n",
    "# Label plot\n",
    "plt.xlabel('Latitude')\n",
    "plt.ylabel('Humidity (%)')\n",
    "plt.title('Northern Hemisphere - Wind Speed (mph) vs. Latitude')\n",
    "\n",
    "# Print r square value\n",
    "print(f\"R squard: {rvalue}\")\n",
    "\n",
    "# Show plot\n",
    "plt.show()"
   ]
  },
  {
   "cell_type": "markdown",
   "metadata": {},
   "source": [
    "There is a very weak correlation (R-squared of 0.168) between Wind Speed (mph) and City Latitude in the Northern Hemisphere."
   ]
  },
  {
   "cell_type": "markdown",
   "metadata": {},
   "source": [
    "####  Southern Hemisphere - Wind Speed (mph) vs. Latitude Linear Regression"
   ]
  },
  {
   "cell_type": "code",
   "execution_count": 23,
   "metadata": {},
   "outputs": [
    {
     "name": "stdout",
     "output_type": "stream",
     "text": [
      "R squard: -0.35657760216854534\n"
     ]
    },
    {
     "data": {
      "image/png": "[encoded data removed]",
      "text/plain": [
       "<Figure size 432x288 with 1 Axes>"
      ]
     },
     "metadata": {
      "needs_background": "light"
     },
     "output_type": "display_data"
    }
   ],
   "source": [
    "## Convert to floats and store Wind Speed and Latitude as x and y values\n",
    "x_values = southern_hemisphere['Lat'].astype('float')\n",
    "y_values = southern_hemisphere['Wind Speed'].astype('float')\n",
    "\n",
    "# Run linear regression\n",
    "(slope, intercept, rvalue, pvalue, stderr) = linregress(x_values, y_values)\n",
    "regress_values = x_values * slope + intercept\n",
    "line_eq = \"y = \" + str(round(slope,2)) + \"x + \" + str(round(intercept,2))\n",
    "\n",
    "# Plot scatter plot\n",
    "plt.scatter(x_values,y_values)\n",
    "\n",
    "# Plot regression line\n",
    "plt.plot(x_values,regress_values,\"r-\")\n",
    "plt.annotate(line_eq,(-45,23),fontsize=15,color=\"red\")\n",
    "\n",
    "# Label plot\n",
    "plt.xlabel('Latitude')\n",
    "plt.ylabel('Humidity (%)')\n",
    "plt.title('Southern Hemisphere - Wind Speed (mph) vs. Latitude')\n",
    "\n",
    "# Print r square value\n",
    "print(f\"R squard: {rvalue}\")\n",
    "\n",
    "# Show plot\n",
    "plt.show()"
   ]
  },
  {
   "cell_type": "markdown",
   "metadata": {},
   "source": [
    "There is a weak correlation (R-squared of -0.357) between Wind Speed (mph) and City Latitude in the Southern Hemisphere."
   ]
  },
  {
   "cell_type": "code",
   "execution_count": null,
   "metadata": {},
   "outputs": [],
   "source": []
  }
 ],
 "metadata": {
  "anaconda-cloud": {},
  "kernel_info": {
   "name": "python3"
  },
  "kernelspec": {
   "display_name": "Python 3",
   "language": "python",
   "name": "python3"
  },
  "language_info": {
   "codemirror_mode": {
    "name": "ipython",
    "version": 3
   },
   "file_extension": ".py",
   "mimetype": "text/x-python",
   "name": "python",
   "nbconvert_exporter": "python",
   "pygments_lexer": "ipython3",
   "version": "3.7.4"
  },
  "latex_envs": {
   "LaTeX_envs_menu_present": true,
   "autoclose": false,
   "autocomplete": true,
   "bibliofile": "biblio.bib",
   "cite_by": "apalike",
   "current_citInitial": 1,
   "eqLabelWithNumbers": true,
   "eqNumInitial": 1,
   "hotkeys": {
    "equation": "Ctrl-E",
    "itemize": "Ctrl-I"
   },
   "labels_anchors": false,
   "latex_user_defs": false,
   "report_style_numbering": false,
   "user_envs_cfg": false
  },
  "nteract": {
   "version": "0.12.3"
  }
 },
 "nbformat": 4,
 "nbformat_minor": 2
}
